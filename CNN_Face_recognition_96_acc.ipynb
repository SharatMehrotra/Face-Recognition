{
 "cells": [
  {
   "cell_type": "markdown",
   "metadata": {},
   "source": [
    "# Face Recognition using CNN"
   ]
  },
  {
   "cell_type": "markdown",
   "metadata": {},
   "source": [
    " # Step1:\n",
    " \n",
    "At the first, you should input the required libraries:"
   ]
  },
  {
   "cell_type": "code",
   "execution_count": 1,
   "metadata": {},
   "outputs": [
    {
     "name": "stderr",
     "output_type": "stream",
     "text": [
      "C:\\SHARAT\\Anaconda\\lib\\site-packages\\numpy\\_distributor_init.py:32: UserWarning: loaded more than 1 DLL from .libs:\n",
      "C:\\SHARAT\\Anaconda\\lib\\site-packages\\numpy\\.libs\\libopenblas.PYQHXLVVQ7VESDPUVUADXEVJOBGHJPAY.gfortran-win_amd64.dll\n",
      "C:\\SHARAT\\Anaconda\\lib\\site-packages\\numpy\\.libs\\libopenblas.TXA6YQSD3GCQQC22GEQ54J2UDCXDXHWN.gfortran-win_amd64.dll\n",
      "  stacklevel=1)\n",
      "C:\\SHARAT\\Anaconda\\lib\\site-packages\\h5py\\__init__.py:34: FutureWarning: Conversion of the second argument of issubdtype from `float` to `np.floating` is deprecated. In future, it will be treated as `np.float64 == np.dtype(float).type`.\n",
      "  from ._conv import register_converters as _register_converters\n",
      "Using TensorFlow backend.\n"
     ]
    }
   ],
   "source": [
    "import keras\n",
    "from keras.models import Sequential\n",
    "from keras.layers import Conv2D, MaxPooling2D, Dense, Flatten, Dropout\n",
    "from keras.optimizers import Adam\n",
    "from keras.callbacks import TensorBoard\n",
    "\n",
    "import numpy as np\n",
    "import pandas as pd\n",
    "import matplotlib.pyplot as plt\n",
    "from sklearn.model_selection import train_test_split\n",
    "\n",
    "from sklearn.metrics import confusion_matrix\n",
    "from sklearn.metrics import classification_report\n",
    "from sklearn.metrics import roc_curve, auc\n",
    "from sklearn.metrics import accuracy_score\n",
    "from keras.utils import np_utils\n",
    "import itertools"
   ]
  },
  {
   "cell_type": "markdown",
   "metadata": {},
   "source": [
    "# Step2:\n",
    "\n",
    "* Load Dataset :\n",
    "\n",
    "After loading the Dataset you have to normalize every image.\n",
    "\n",
    "Note: an image is a Uint8 matrix of pixels and for calculation, you need to convert the format of the image to float or double"
   ]
  },
  {
   "cell_type": "code",
   "execution_count": 2,
   "metadata": {},
   "outputs": [
    {
     "name": "stdout",
     "output_type": "stream",
     "text": [
      "x_train : [[0.1882353  0.19215687 0.1764706  ... 0.18431373 0.18039216 0.18039216]\n",
      " [0.23529412 0.23529412 0.24313726 ... 0.1254902  0.13333334 0.13333334]\n",
      " [0.15294118 0.17254902 0.20784314 ... 0.11372549 0.10196079 0.11372549]\n",
      " ...\n",
      " [0.44705883 0.45882353 0.44705883 ... 0.38431373 0.3764706  0.38431373]\n",
      " [0.4117647  0.4117647  0.41960785 ... 0.21176471 0.18431373 0.16078432]\n",
      " [0.45490196 0.44705883 0.45882353 ... 0.37254903 0.39215687 0.39607844]]\n",
      "Y-train shape: [ 0  0  0  0  0  0  0  0  0  0  0  0  1  1  1  1  1  1  1  1  1  1  1  1\n",
      "  2  2  2  2  2  2  2  2  2  2  2  2  3  3  3  3  3  3  3  3  3  3  3  3\n",
      "  4  4  4  4  4  4  4  4  4  4  4  4  5  5  5  5  5  5  5  5  5  5  5  5\n",
      "  6  6  6  6  6  6  6  6  6  6  6  6  7  7  7  7  7  7  7  7  7  7  7  7\n",
      "  8  8  8  8  8  8  8  8  8  8  8  8  9  9  9  9  9  9  9  9  9  9  9  9\n",
      " 10 10 10 10 10 10 10 10 10 10 10 10 11 11 11 11 11 11 11 11 11 11 11 11\n",
      " 12 12 12 12 12 12 12 12 12 12 12 12 13 13 13 13 13 13 13 13 13 13 13 13\n",
      " 14 14 14 14 14 14 14 14 14 14 14 14 15 15 15 15 15 15 15 15 15 15 15 15\n",
      " 16 16 16 16 16 16 16 16 16 16 16 16 17 17 17 17 17 17 17 17 17 17 17 17\n",
      " 18 18 18 18 18 18 18 18 18 18 18 18 19 19 19 19 19 19 19 19 19 19 19 19]\n",
      "x_test shape: (160, 10304)\n"
     ]
    }
   ],
   "source": [
    "#load dataset\n",
    "data = np.load('ORL_faces.npz') \n",
    "\n",
    "# load the \"Train Images\"\n",
    "x_train = data['trainX']\n",
    "#normalize every image\n",
    "x_train = np.array(x_train,dtype='float32')/255\n",
    "\n",
    "x_test = data['testX']\n",
    "x_test = np.array(x_test,dtype='float32')/255\n",
    "\n",
    "# load the Label of Images\n",
    "y_train= data['trainY']\n",
    "y_test= data['testY']\n",
    "\n",
    "# show the train and test Data format\n",
    "print('x_train : {}'.format(x_train[:]))\n",
    "print('Y-train shape: {}'.format(y_train))\n",
    "print('x_test shape: {}'.format(x_test.shape))"
   ]
  },
  {
   "cell_type": "markdown",
   "metadata": {},
   "source": [
    "# Step 3\n",
    "\n",
    "Split DataSet : Validation data and Train \n",
    "\n",
    "Validation DataSet: this data set is used to minimize overfitting.If the accuracy over the training data set increases, but the accuracy over then validation data set stays the same or decreases, then you're overfitting your neural network and you should stop training.\n",
    "\n",
    " * Note: we usually use 30 percent of every dataset as the validation data but Here we only used 5 percent because the number of images in this dataset is very low. \n",
    "\n"
   ]
  },
  {
   "cell_type": "code",
   "execution_count": 3,
   "metadata": {
    "collapsed": true
   },
   "outputs": [],
   "source": [
    "x_train, x_valid, y_train, y_valid= train_test_split(\n",
    "    x_train, y_train, test_size=.05, random_state=1234,)"
   ]
  },
  {
   "cell_type": "markdown",
   "metadata": {},
   "source": [
    "# Step 4\n",
    "\n",
    "for using the CNN, we need to change The size of images ( The size of images must be the same)"
   ]
  },
  {
   "cell_type": "code",
   "execution_count": 4,
   "metadata": {},
   "outputs": [
    {
     "name": "stdout",
     "output_type": "stream",
     "text": [
      "x_train shape: 228\n",
      "x_test shape: (160,)\n"
     ]
    }
   ],
   "source": [
    "im_rows=112\n",
    "im_cols=92\n",
    "batch_size=512\n",
    "im_shape=(im_rows, im_cols, 1)\n",
    "\n",
    "#change the size of images\n",
    "x_train = x_train.reshape(x_train.shape[0], *im_shape)\n",
    "x_test = x_test.reshape(x_test.shape[0], *im_shape)\n",
    "x_valid = x_valid.reshape(x_valid.shape[0], *im_shape)\n",
    "\n",
    "print('x_train shape: {}'.format(y_train.shape[0]))\n",
    "print('x_test shape: {}'.format(y_test.shape))"
   ]
  },
  {
   "cell_type": "markdown",
   "metadata": {},
   "source": [
    "# Step 5\n",
    "\n",
    "\n",
    "Build CNN model:\n",
    " CNN have 3 main layer: \n",
    " * 1-Convolotional layer \n",
    " * 2- pooling layer  \n",
    " * 3- fully connected layer\n",
    " \n",
    " we could build a new architecture of CNN by changing the number and position of layers.\n",
    " "
   ]
  },
  {
   "cell_type": "code",
   "execution_count": 34,
   "metadata": {
    "collapsed": true
   },
   "outputs": [],
   "source": [
    "\n",
    "#filters= the depth of output image or kernels\n",
    "\n",
    "cnn_model= Sequential([\n",
    "    Conv2D(filters=36, kernel_size=7, activation='relu', input_shape= im_shape),\n",
    "    MaxPooling2D(pool_size=2),\n",
    "    Conv2D(filters=54, kernel_size=5, activation='relu', input_shape= im_shape),\n",
    "    MaxPooling2D(pool_size=2),\n",
    "    Flatten(),\n",
    "    Dense(2024, activation='relu'),\n",
    "     Dropout(0.5),\n",
    "    Dense(1024, activation='relu'),\n",
    "    Dropout(0.5),\n",
    "    Dense(512, activation='relu'),\n",
    "    #Dropout(0.5),\n",
    "    #20 is the number of outputs\n",
    "    Dense(20, activation='softmax')  \n",
    "])\n",
    "\n",
    "cnn_model.compile(\n",
    "    loss='sparse_categorical_crossentropy',#'categorical_crossentropy', #for more than 2 categories\n",
    "    optimizer=Adam(lr=0.001),\n",
    "    metrics=['accuracy']\n",
    ")"
   ]
  },
  {
   "cell_type": "markdown",
   "metadata": {},
   "source": [
    "Show the model's parameters."
   ]
  },
  {
   "cell_type": "code",
   "execution_count": 35,
   "metadata": {},
   "outputs": [
    {
     "name": "stdout",
     "output_type": "stream",
     "text": [
      "Model: \"sequential_6\"\n",
      "_________________________________________________________________\n",
      "Layer (type)                 Output Shape              Param #   \n",
      "=================================================================\n",
      "conv2d_11 (Conv2D)           (None, 106, 86, 36)       1800      \n",
      "_________________________________________________________________\n",
      "max_pooling2d_11 (MaxPooling (None, 53, 43, 36)        0         \n",
      "_________________________________________________________________\n",
      "conv2d_12 (Conv2D)           (None, 49, 39, 54)        48654     \n",
      "_________________________________________________________________\n",
      "max_pooling2d_12 (MaxPooling (None, 24, 19, 54)        0         \n",
      "_________________________________________________________________\n",
      "flatten_6 (Flatten)          (None, 24624)             0         \n",
      "_________________________________________________________________\n",
      "dense_21 (Dense)             (None, 2024)              49841000  \n",
      "_________________________________________________________________\n",
      "dropout_16 (Dropout)         (None, 2024)              0         \n",
      "_________________________________________________________________\n",
      "dense_22 (Dense)             (None, 1024)              2073600   \n",
      "_________________________________________________________________\n",
      "dropout_17 (Dropout)         (None, 1024)              0         \n",
      "_________________________________________________________________\n",
      "dense_23 (Dense)             (None, 512)               524800    \n",
      "_________________________________________________________________\n",
      "dense_24 (Dense)             (None, 20)                10260     \n",
      "=================================================================\n",
      "Total params: 52,500,114\n",
      "Trainable params: 52,500,114\n",
      "Non-trainable params: 0\n",
      "_________________________________________________________________\n"
     ]
    }
   ],
   "source": [
    "cnn_model.summary()"
   ]
  },
  {
   "cell_type": "markdown",
   "metadata": {},
   "source": [
    "# Step 6\n",
    "\n",
    "Train the Model\n",
    "\n",
    "* Note: You can change the number of epochs\n"
   ]
  },
  {
   "cell_type": "code",
   "execution_count": 36,
   "metadata": {},
   "outputs": [
    {
     "name": "stdout",
     "output_type": "stream",
     "text": [
      "Train on 228 samples, validate on 12 samples\n",
      "Epoch 1/50\n",
      " - 9s - loss: 2.9946 - accuracy: 0.0439 - val_loss: 3.1925 - val_accuracy: 0.0000e+00\n",
      "Epoch 2/50\n",
      " - 8s - loss: 3.2520 - accuracy: 0.0482 - val_loss: 3.1728 - val_accuracy: 0.0000e+00\n",
      "Epoch 3/50\n",
      " - 9s - loss: 3.0599 - accuracy: 0.0833 - val_loss: 2.9837 - val_accuracy: 0.0833\n",
      "Epoch 4/50\n",
      " - 8s - loss: 2.9790 - accuracy: 0.0833 - val_loss: 2.9836 - val_accuracy: 0.0000e+00\n",
      "Epoch 5/50\n",
      " - 9s - loss: 2.9589 - accuracy: 0.1096 - val_loss: 2.9989 - val_accuracy: 0.0000e+00\n",
      "Epoch 6/50\n",
      " - 8s - loss: 2.9437 - accuracy: 0.1140 - val_loss: 2.9931 - val_accuracy: 0.0000e+00\n",
      "Epoch 7/50\n",
      " - 9s - loss: 2.8723 - accuracy: 0.1754 - val_loss: 2.9987 - val_accuracy: 0.0833\n",
      "Epoch 8/50\n",
      " - 9s - loss: 2.8287 - accuracy: 0.1711 - val_loss: 2.8437 - val_accuracy: 0.0000e+00\n",
      "Epoch 9/50\n",
      " - 8s - loss: 2.7467 - accuracy: 0.2105 - val_loss: 2.7000 - val_accuracy: 0.0833\n",
      "Epoch 10/50\n",
      " - 9s - loss: 2.5902 - accuracy: 0.3596 - val_loss: 2.5498 - val_accuracy: 0.2500\n",
      "Epoch 11/50\n",
      " - 8s - loss: 2.3893 - accuracy: 0.2982 - val_loss: 2.1918 - val_accuracy: 0.5000\n",
      "Epoch 12/50\n",
      " - 9s - loss: 2.1075 - accuracy: 0.4605 - val_loss: 1.9017 - val_accuracy: 0.5000\n",
      "Epoch 13/50\n",
      " - 8s - loss: 1.8892 - accuracy: 0.4167 - val_loss: 1.7170 - val_accuracy: 0.6667\n",
      "Epoch 14/50\n",
      " - 9s - loss: 1.5252 - accuracy: 0.5746 - val_loss: 1.1169 - val_accuracy: 0.8333\n",
      "Epoch 15/50\n",
      " - 7s - loss: 1.2447 - accuracy: 0.6096 - val_loss: 1.0389 - val_accuracy: 0.8333\n",
      "Epoch 16/50\n",
      " - 8s - loss: 1.0214 - accuracy: 0.7281 - val_loss: 0.7248 - val_accuracy: 0.7500\n",
      "Epoch 17/50\n",
      " - 7s - loss: 0.7957 - accuracy: 0.7895 - val_loss: 0.4659 - val_accuracy: 0.9167\n",
      "Epoch 18/50\n",
      " - 7s - loss: 0.6078 - accuracy: 0.8333 - val_loss: 0.2660 - val_accuracy: 1.0000\n",
      "Epoch 19/50\n",
      " - 6s - loss: 0.5744 - accuracy: 0.8377 - val_loss: 0.3038 - val_accuracy: 0.9167\n",
      "Epoch 20/50\n",
      " - 6s - loss: 0.3191 - accuracy: 0.9211 - val_loss: 0.3912 - val_accuracy: 0.8333\n",
      "Epoch 21/50\n",
      " - 6s - loss: 0.2603 - accuracy: 0.9518 - val_loss: 0.1637 - val_accuracy: 1.0000\n",
      "Epoch 22/50\n",
      " - 6s - loss: 0.1820 - accuracy: 0.9342 - val_loss: 0.0424 - val_accuracy: 1.0000\n",
      "Epoch 23/50\n",
      " - 7s - loss: 0.1813 - accuracy: 0.9254 - val_loss: 0.0686 - val_accuracy: 1.0000\n",
      "Epoch 24/50\n",
      " - 7s - loss: 0.1959 - accuracy: 0.9342 - val_loss: 0.0442 - val_accuracy: 1.0000\n",
      "Epoch 25/50\n",
      " - 6s - loss: 0.1019 - accuracy: 0.9781 - val_loss: 0.0383 - val_accuracy: 1.0000\n",
      "Epoch 26/50\n",
      " - 7s - loss: 0.0645 - accuracy: 0.9781 - val_loss: 0.0272 - val_accuracy: 1.0000\n",
      "Epoch 27/50\n",
      " - 6s - loss: 0.0787 - accuracy: 0.9737 - val_loss: 0.0613 - val_accuracy: 1.0000\n",
      "Epoch 28/50\n",
      " - 7s - loss: 0.0537 - accuracy: 0.9956 - val_loss: 0.0912 - val_accuracy: 0.9167\n",
      "Epoch 29/50\n",
      " - 7s - loss: 0.0310 - accuracy: 0.9956 - val_loss: 0.0731 - val_accuracy: 1.0000\n",
      "Epoch 30/50\n",
      " - 7s - loss: 0.0297 - accuracy: 0.9956 - val_loss: 0.0274 - val_accuracy: 1.0000\n",
      "Epoch 31/50\n",
      " - 7s - loss: 0.0506 - accuracy: 0.9825 - val_loss: 0.0170 - val_accuracy: 1.0000\n",
      "Epoch 32/50\n",
      " - 7s - loss: 0.0512 - accuracy: 0.9912 - val_loss: 0.0274 - val_accuracy: 1.0000\n",
      "Epoch 33/50\n",
      " - 7s - loss: 0.0223 - accuracy: 0.9912 - val_loss: 0.0512 - val_accuracy: 1.0000\n",
      "Epoch 34/50\n",
      " - 7s - loss: 0.0202 - accuracy: 0.9868 - val_loss: 0.0225 - val_accuracy: 1.0000\n",
      "Epoch 35/50\n",
      " - 7s - loss: 0.0168 - accuracy: 0.9956 - val_loss: 0.0036 - val_accuracy: 1.0000\n",
      "Epoch 36/50\n",
      " - 7s - loss: 0.0062 - accuracy: 1.0000 - val_loss: 0.0106 - val_accuracy: 1.0000\n",
      "Epoch 37/50\n",
      " - 7s - loss: 0.0178 - accuracy: 0.9956 - val_loss: 0.0014 - val_accuracy: 1.0000\n",
      "Epoch 38/50\n",
      " - 7s - loss: 0.0120 - accuracy: 0.9956 - val_loss: 2.3616e-04 - val_accuracy: 1.0000\n",
      "Epoch 39/50\n",
      " - 6s - loss: 0.0102 - accuracy: 1.0000 - val_loss: 2.4085e-04 - val_accuracy: 1.0000\n",
      "Epoch 40/50\n",
      " - 6s - loss: 0.0099 - accuracy: 0.9956 - val_loss: 0.0012 - val_accuracy: 1.0000\n",
      "Epoch 41/50\n",
      " - 6s - loss: 0.0333 - accuracy: 0.9825 - val_loss: 2.0920e-04 - val_accuracy: 1.0000\n",
      "Epoch 42/50\n",
      " - 6s - loss: 0.0032 - accuracy: 1.0000 - val_loss: 6.6730e-05 - val_accuracy: 1.0000\n",
      "Epoch 43/50\n",
      " - 6s - loss: 0.0097 - accuracy: 0.9956 - val_loss: 7.1737e-05 - val_accuracy: 1.0000\n",
      "Epoch 44/50\n",
      " - 6s - loss: 0.0021 - accuracy: 1.0000 - val_loss: 1.9950e-04 - val_accuracy: 1.0000\n",
      "Epoch 45/50\n",
      " - 6s - loss: 0.0309 - accuracy: 0.9912 - val_loss: 1.9142e-04 - val_accuracy: 1.0000\n",
      "Epoch 46/50\n",
      " - 6s - loss: 0.0091 - accuracy: 0.9956 - val_loss: 5.1917e-04 - val_accuracy: 1.0000\n",
      "Epoch 47/50\n",
      " - 6s - loss: 0.0094 - accuracy: 0.9956 - val_loss: 0.0074 - val_accuracy: 1.0000\n",
      "Epoch 48/50\n",
      " - 6s - loss: 0.0149 - accuracy: 0.9956 - val_loss: 0.0388 - val_accuracy: 1.0000\n",
      "Epoch 49/50\n",
      " - 6s - loss: 0.0081 - accuracy: 0.9956 - val_loss: 0.0135 - val_accuracy: 1.0000\n",
      "Epoch 50/50\n",
      " - 6s - loss: 0.0082 - accuracy: 1.0000 - val_loss: 0.0029 - val_accuracy: 1.0000\n"
     ]
    }
   ],
   "source": [
    "history=cnn_model.fit(\n",
    "    np.array(x_train), np.array(y_train), batch_size=512,\n",
    "    epochs=50, verbose=2,\n",
    "    validation_data=(np.array(x_valid),np.array(y_valid)),\n",
    ")"
   ]
  },
  {
   "cell_type": "markdown",
   "metadata": {},
   "source": [
    "Evaluate the test data\n"
   ]
  },
  {
   "cell_type": "code",
   "execution_count": 37,
   "metadata": {},
   "outputs": [
    {
     "name": "stdout",
     "output_type": "stream",
     "text": [
      "test los 0.3484\n",
      "test acc 0.9625\n"
     ]
    }
   ],
   "source": [
    "scor = cnn_model.evaluate( np.array(x_test),  np.array(y_test), verbose=0)\n",
    "\n",
    "print('test los {:.4f}'.format(scor[0]))\n",
    "print('test acc {:.4f}'.format(scor[1]))"
   ]
  },
  {
   "cell_type": "markdown",
   "metadata": {},
   "source": [
    "# Step 7 \n",
    "\n",
    "plot the result"
   ]
  },
  {
   "cell_type": "code",
   "execution_count": 38,
   "metadata": {},
   "outputs": [
    {
     "name": "stdout",
     "output_type": "stream",
     "text": [
      "dict_keys(['val_loss', 'val_accuracy', 'loss', 'accuracy'])\n"
     ]
    },
    {
     "data": {
      "image/png": "iVBORw0KGgoAAAANSUhEUgAAAYUAAAEWCAYAAACJ0YulAAAABHNCSVQICAgIfAhkiAAAAAlwSFlz\nAAALEgAACxIB0t1+/AAAIABJREFUeJzt3Xl8VeW18PHfykQGMkASpgQIMkOAoIBWrbMVnLV1xNva\n25baVmsHrd7ezvfe97VvbWttrV6v11YrOEu1FgesiMWZISRhDghkICQEMs856/1j74ST5CQ5Sc7J\nuL6fTz45Z49rM5x19vPsZz2iqhhjjDEAIQMdgDHGmMHDkoIxxphWlhSMMca0sqRgjDGmlSUFY4wx\nrSwpGGOMaWVJwYwoIvJnEflPP7c9KCIXBTsmYwYTSwrGGGNaWVIwZggSkbCBjsEMT5YUzKDjNtvc\nLSJZIlItIv8rIuNF5DURqRSRt0RkjNf2V4rIDhEpE5F3RGSu17rFIrLV3e9ZILLduS4XkUx33/dF\nZKGfMV4mIttEpEJE8kTkZ+3Wn+0er8xdf6u7PEpEfi0ih0SkXEQ2ucvOE5F8H38OF7mvfyYiL4jI\nUyJSAdwqIstE5AP3HEdE5A8iEuG1/3wRWS8ix0XkqIj8UEQmiEiNiCR6bXeqiJSISLg/126GN0sK\nZrD6PHAxMAu4AngN+CGQjPPv9tsAIjILeBr4jrtuHfA3EYlwPyD/CvwFGAs87x4Xd9/FwOPA14FE\n4L+BV0RklB/xVQNfBBKAy4BviMjV7nGnuvH+3o0pA8h097sfOA04043pB4DHzz+Tq4AX3HOuBpqB\n7wJJwGeAC4FvujHEAm8BrwOTgBnAP1S1CHgHuN7ruP8CPKOqjX7GYYYxSwpmsPq9qh5V1QLgn8BH\nqrpNVeuAtcBid7sbgL+r6nr3Q+1+IArnQ/cMIBx4QFUbVfUF4BOvc6wC/ltVP1LVZlV9Aqh39+uS\nqr6jqtmq6lHVLJzEdK67+mbgLVV92j1vqapmikgI8K/Anapa4J7zfVWt9/PP5ANV/at7zlpV3aKq\nH6pqk6oexElqLTFcDhSp6q9VtU5VK1X1I3fdE8AtACISCtyEkziNsaRgBq2jXq9rfbwf7b6eBBxq\nWaGqHiAPSHHXFWjbqo+HvF5PBb7vNr+UiUgZMNndr0sicrqIbHCbXcqB23C+seMeY7+P3ZJwmq98\nrfNHXrsYZonIqyJS5DYp/R8/YgB4GZgnItNw7sbKVfXjXsZkhhlLCmaoK8T5cAdARATnA7EAOAKk\nuMtaTPF6nQf8l6omeP1Eq+rTfpx3DfAKMFlV44FHgJbz5AHTfexzDKjrZF01EO11HaE4TU/e2pc0\nfhjYDcxU1Tic5jXvGE7xFbh7t/Uczt3Cv2B3CcaLJQUz1D0HXCYiF7odpd/HaQJ6H/gAaAK+LSLh\nInItsMxr3/8BbnO/9YuIxLgdyLF+nDcWOK6qdSKyDKfJqMVq4CIRuV5EwkQkUUQy3LuYx4HfiMgk\nEQkVkc+4fRh7gUj3/OHAj4Du+jZigQqgSkTmAN/wWvcqMFFEviMio0QkVkRO91r/JHArcCWWFIwX\nSwpmSFPVPTjfeH+P8038CuAKVW1Q1QbgWpwPv+M4/Q8vee27Gfga8AfgBJDrbuuPbwK/EJFK4Cc4\nyanluIeBS3ES1HGcTuZF7uq7gGycvo3jwC+BEFUtd4/5GM5dTjXQ5mkkH+7CSUaVOAnuWa8YKnGa\nhq4AioB9wPle69/D6eDeqqreTWpmhBObZMeYkUlE3gbWqOpjAx2LGTwsKRgzAonIUmA9Tp9I5UDH\nYwYPaz4yZoQRkSdwxjB8xxKCac/uFIwxxrSyOwVjjDGthlxRraSkJE1LSxvoMIwxZkjZsmXLMVVt\nP/algyGXFNLS0ti8efNAh2GMMUOKiPj16LE1HxljjGllScEYY0wrSwrGGGNaDbk+BV8aGxvJz8+n\nrq5uoEMJusjISFJTUwkPt/lQjDGBNyySQn5+PrGxsaSlpdG2IObwoqqUlpaSn5/PtGnTBjocY8ww\nFLTmIxF5XESKRSSnk/UiIg+KSK440y6e2ttz1dXVkZiYOKwTAoCIkJiYOCLuiIwxAyOYfQp/BpZ3\nsX4FMNP9WYVTG77XhntCaDFSrtMYMzCC1nykqu+KSFoXm1wFPOnOivWhiCSIyERVPRKsmMwQkPcx\neJph6mf6dhxV+OQxqCoOTFyBNHsFpPh5Y1xVDJv/BJ6m4MbUB/VNzZTXNlFe20h5bSPhoUJ8VDjx\n0eHERYYT6ucXGVWluqGZstpGymsaqW5oYvSoMBKiw4mPCic6IhShZ1+KFOXw8VqOVdU7MUWFkxAV\nTnhoSIftaurdc9c2Ul3fxIT4SCbGRxIWMnDP49Q3NVNW20R5bQPlNY1EzjiLBedcG9RzDmSfQgpt\npxfMd5d1SAoisgrnboIpU6a0Xz3gysrKWLNmDd/85jd7tN+ll17KmjVrSEhICFJkQ4zHAy/8KzQ3\nwnd3QGgf/nmW7IF1d7lvBtPdlcKe1+Abm04uUeWV7YVs2N0xgV1z9Pece+JFPJ1cg7T7HWza7jdA\nuDpzgCb52B7A429w6kw9F43v+VAVUPdY/ly3uj+T1ZmKr8uY1JnYOwqY6GNb782FjlPgBauCXLg6\n0++1DEP+qKkBhnFS8JuqPgo8CrBkyZJBV8GvrKyMP/7xjx2SQlNTE2Fhnf8Rr1u3LtihDS0H34Vy\n93vCgQ0w8+LeH6soy/n9jQ9g/Ly+xxYoH/+Pk6yObIeJizhR3cAP12bzWk4R42JHERUR2rppmDby\ns5r1vBN6Jj+N/EGHQ1XUNnKippGUhChuPn0KNy6dTOLojpO1FZTV8u7eEv65r4Sict/9UVERoUwZ\nG0NaYjRTE2OYmhjN1MRowkND2HroBBv3lrBxbwk7CisAGBsTwezxsaQlRbfZb0piNDUNTRwqrXF/\nqjno/i6vbfR57siwUCaPjXaOkeQea2wM4+JGcaS8joOl1RwureFgaTWHSmvYfaSCwvI6EmMiuHHZ\nZFaePpVJCVGtxztaUcf9b+zhha35xEeFc+eFM7kqI4XCstrWY7TEVV7TSOqYKKYmxrjXEk1aYgxj\nYiLYfPA477rXfbC0BoCUhCg8qhxp9+cYHxVOQnRgnggMEWFSQqTPv4/PRAT/I3sgk0IBbRN4qrts\nyLn33nvZv38/GRkZhIeHExkZyZgxY9i9ezd79+7l6quvJi8vj7q6Ou68805WrVoFnCzZUVVVxYoV\nKzj77LN5//33SUlJ4eWXXyYqKqqbMw8z21bDqHjnDmHbU31PCqGjIGlm4OILhAVfgDd+CJlreKdi\nIj94IYsTNQ3cu2IOX/vsKYSGeH0n3fU3eLaC8274Lhtnnd/hUE3NHt7adZQnPzjEr97Yw+/e2sfl\nCyey8owpVNU3t36g5RZXATAxPpLpyaPx1ZpTWdfEGzuKOF7d0GZ5RFgIDU0ewkKEU6eM4e5LZnPO\nzGTmT4ojJMT39/TRo8IYFxvJ0rSxvf9zck1LimFaUkybZR6Psin3GE9+cIiH39nPw+/s56K541l5\nxlS2HjrBo+8eoNmjfPXsadx+/kzi3Q/rsTERpKfE+33uC+eO58K54wE4VFrNu3tL+OBAKVHhYR0S\nWHyAEsJgENTS2W6fwquqmu5j3WXA7TjTFp4OPKiqy9pv196SJUu0fe2jXbt2MXfuXAB+/rcd7HS/\nzQTKvElx/PSK+Z2uP3jwIJdffjk5OTm88847XHbZZeTk5LQ+Nnr8+HHGjh1LbW0tS5cuZePGjSQm\nJrZJCjNmzGDz5s1kZGRw/fXXc+WVV3LLLbf4PJ/39Q4bdeVw/2zIuMn5MN/8v/D9PRDdyw+WJ6+C\n2jL4+sbAxtlOQVktVXUd2/tFYFzsKBKiIzqsa3r2S9Tv3UBG9e+ZNj6B396QwfxJPj6snr4JCrb6\n1ZSWW1zJXz44xItbC6iqd+KJCAvh9GljOXdWMufOSmbGuNHdPqhQUdfY5lt5WU0DS9LGcub0RGIj\nB98HX/6JGlZ/dJhnP8lrTWiXLZjIPcvnMCUxeoCjG1xEZIuqLuluu6DdKYjI08B5QJKI5AM/BcIB\nVPURYB1OQsgFaoAvByuW/rZs2bI24wgefPBB1q5dC0BeXh779u0jMTGxzT7Tpk0jIyMDgNNOO42D\nBw/2W7yDwo610FQLGbdAWAR89DDkvAjLvtbzY6nCkSyYe3ng4/TywpZ87np+e5fbxEeFu7f+MUwd\nG82E+EiyDy7il81/5b/mFXDlTZcTGR7acceqYtj7Bpx5u199KzPGxfLzq9K5e/kc3sgpInF0BKdP\nS2zTHOWPuMhw0lPie/SNeiCljonmnuVzuPPCmby9u5hJCVFkTLY+ur4I5tNHN3WzXoFvBfq8XX2j\n7y8xMSdvd9955x3eeustPvjgA6KjoznvvPN8jjMYNepkW3BoaCi1tbX9EuugsW01JM12nsoRgQkL\nnCak3iSFikKoPQ4TFgY+Ttenx6r5ycs5LEsby61npXVY3+xRjlbUtX7j3p5Xxt+zCvEoTIpNpz5q\nPNeHbYTwTh5OyHoOtBkyVvYortGjwvj8aam9uKKhLTI8lEsXtO8iNr0xJDqaB7vY2FgqK33Palhe\nXs6YMWOIjo5m9+7dfPjhh/0c3RBwbB/kfwwX/4LWBu+MW+D1e+DoDhjfw0RflO38nrAgsHG6Gpo8\n3PnMNsJDQ/jdTRlMjPev76ehyUNhWS3j4yIZ9e7N8N6DUHkUYse33VAVMldDyhJInh2EKzCmc1YQ\nLwASExM566yzSE9P5+67726zbvny5TQ1NTF37lzuvfdezjjjjAGKchDLXA0SCgtvOLlswXUQEg6Z\na3p+vKJsQHqeTPz027f2kpVfzn3XLvA7IYDTxp+WFOM06WSsdO4Esp7tuOGRTCjeCRk3BzBqY/xj\ndwoBsmaN7w+vUaNG8dprr/lc19JvkJSURE7OyWogd911l8/thyVPM2x/BmZcBLETTi6PSYTZy50P\nzYt+BqE96OQs2g5jT4FRsYGOlvf3H+ORjfu5celkVvSluSJpJqQucxLimXfQ5pGgbaudzvb0z/c9\nYGN6yO4UzMDavwEqj8BiH23nGSuhugT2re/ZMYuyORE/h7N/+Tb3vJBFcUVgakWV1TTwvWe3My0x\nhp9cEYCxDxk3Q8luKNx6clljHWQ/73SSR1mHqel/lhTMwMpcDVFjYJaPMlkzLoKYcc42/qorhxMH\nefJALHWNHl7als9597/D797aR01D70tFqCr3vphNaXU9D960mOhADCJKvxbCIp07gxZ7X4O6sh53\nMBsTKJYUzMCpPQG7/w4LroewjiNxCQ2HhdfD3teh+phfh9y57X0ACqNm8bc7zmL9d8/l3FnJ/Pat\nvZx//zu8sCUfj6fnY3Oe/SSP13cUcfclswP3uGZkPMy9AnJecO4QwEkQcSlwynmBOYcxPWRJwQyc\nnBehud5301GLjJVOMbjs57s93Pu5x1j72usA3P3FLzAxPoq0pBgevuU0nr/tM0yIj+Ku57dz+e83\nsXZbPqVV9d0es7KukXXZR/j533Zy9owkvnr2KX5fnl8yVjp3N3v+DhVHYP8/YNGNENKz8QXGBIp1\nNJuBs201jE/vejzB+HkwabGz7Rnf6HSzd/eW8LUnN/NgVD6e8CSSJrYtnLg0bSxrv3Emf8sq5P+9\nvofvPrsdEUifFM+5s5I5Z1Yyi6ckECrCjsIK3t1XwsY9JWw9fIImjzIxPpJfX7+o09IOvTbtHIhL\nda6v7DCoBxbZU0dm4FhSMAOjeJfTwXrJ/8VnMR5vGSvdInJZMLFjAnl791Fu+8tWZowbzYXhRwmJ\nXejzmCEhwlUZKVy+cBI5BeWttYEe3rifP2zIJXZUGBFhIZS65RLmT4pj1TmncM6sZE6dMoaIsCDc\nWIeEOqU93r3fqew6+QxImhH48xjjJ0sKAdDb0tkADzzwAKtWrSI6eoTVaclcDSFhTp9Bd9I/7xaR\nW90hKeQUlPP1v2xhzoQ4/nJrBmG/3Q0zL+zycKEhwqLJCSyanMAdF86kvLaRD/YfY+PeY9Q3NvPZ\nWUmcPSOZ5Fgf/RzBsOgmePdXUJEP53ashmpMf7I+hQBoKZ3dGw888AA1NTUBjmiQU4XsF2DmJRDT\nWRV+L9FjYc5lTumHprZVPJ/84CARoSE89ZXTSaj+FDyNPR7JHB8VzvL0ifzfaxfwmxsyuGZxav8l\nBIDE6TDlTAiLgvnX9N95jfHB7hQCwLt09sUXX8y4ceN47rnnqK+v55prruHnP/851dXVXH/99eTn\n59Pc3MyPf/xjjh49SmFhIeeffz5JSUls2LBhoC+lf1QUOmMTpncsB92pjJVO0by9r8O8KwGoaWji\n71lHuGzhRKd08d6W8hbBq3kUNFf+HioLITJuoCMxI9zwSwqv3Xuy9k2gTFgAK+7rdPV9991HTk4O\nmZmZvPnmm7zwwgt8/PHHqCpXXnkl7777LiUlJUyaNIm///3vgFMTKT4+nt/85jds2LCBpCQ/vjEP\nF0W9+PCefgHETnTKXrhJ4bXsIqobmrluyeSTxw2Pdr55DzVJM6wvwQwK1nwUYG+++SZvvvkmixcv\n5tRTT2X37t3s27ePBQsWsH79eu655x7++c9/Eh8/NEoTB0VRFk5toh6MCg5xayPte9MpIgc8vyWP\ntMRolkwd42xzJMupd2SPcxrTa8PvTqGLb/T9QVX5t3/7N77+9a93WLd161bWrVvHj370Iy688EJ+\n8pOfDECEg0BRVu9qE2WshPcegKxnyZv7VT48cJy7PjfLmThG1blTWGD1gozpC7tTCADv0tmXXHIJ\njz/+OFVVzhSIBQUFFBcXU1hYSHR0NLfccgt33303W7du7bDviFGU7fPR0m4lz4LUpZC5hhc25yEC\n157qzh1Qdhjqy4NWLtuYkWL43SkMAO/S2StWrODmm2/mM5/5DACjR4/mqaeeIjc3l7vvvpuQkBDC\nw8N5+OGHAVi1ahXLly9n0qRJI6Oj2a1NxKlf7N3+GSvh1e+wo+Idzp6RcXLC9tZ+ikUBCdOYkcqS\nQoC0L5195513tnk/ffp0Lrnkkg773XHHHdxxxx1BjW1QKXJLhPf2CaH0a2l+7R7OqV5P/Gle020W\nZYGEwLhhNne1Mf3MkoLpX32dFS0ynsyYz3J10/tEzPYqLV2UDYkzIWKEDQI0JsCsT8H0r6Jspxy2\n94Q6PVBV38RDJ04nTqqJ3P9G2+Naf4IxfTZskoJqz8shD0VD/jqLtvfpw3td1hHeaZxLQ8ykk/Ms\n1ByH8rzedV4bY9oYFkkhMjKS0tLSof+B2Q1VpbS0lMjIyIEOpXeaGqB4d5+SwvNb8khLjiX81Jth\n/9vO6Oi+NkkZY1oNiz6F1NRU8vPzKSkpGehQgi4yMpLU1NSBDqN3ju3pVW2iFp8eq+aTgye4Z/kc\nZMHN8M/7nfmdQyOcDYZieQtjBplhkRTCw8OZNm3aQIdhunMky/k9sXePjb64JZ8QgWtPTYG4SKeI\nXOZqSDkNYif5V1zPGNOlYdF8ZIaIltpEY3s+e1mzR3lxaz7nzEpmfJzbfJZxM5Tmwq5XrenImACx\npGD6T1F2j2sTVdQ1kp1fzmP/PMCR8jq+cJpX09n8q50k01htScGYABkWzUemnxzJgu1PO3WG2otO\nhM9+r/MPfD9rE23cW8LarfkcOl7DodIajlefnD8hLTGai+aOP7nxqFiYd5UTkyUFYwLCkoLx36bf\nws6/QkS7QnbaDA1Vzgfz7OW+9y075NYm6rwzeE9RJV97cjNxkWHMGh/LJfMnkJYYzdTEaKYmxjAt\nKYbI8HZJ5/Tb4Mh2mHpmHy/OGAOWFExPFGXB7EvhxtVtlzc3wq/nQOZTnSeFbuZQqGts5ttPbyMu\nMozX7jzH/5nPJmXANz/w8wKMMd2xPgXjn/oqKN3v+0M9NNyZ62DP61Bd6nv/ouwuaxPd99pu9hyt\n5FfXLerfqTCNMW1YUjD+Kd4JaOdt9xk3O2MQsp/3vf5IVqe1iTbsLubP7x/ky2elcf7scYGL2RjT\nY0FNCiKyXET2iEiuiNzrY328iPxNRLaLyA4R+XIw4zF9UOSOMegsKUxId8YfZK72vb6TORRKKuu5\n+4XtzJkQyz3L5wQoWGNMbwUtKYhIKPAQsAKYB9wkIu3nX/wWsFNVFwHnAb8WkYhgxWT64EgWRI2B\n+C5GU2fc4iSP9nNk1xyHivwOCcXjUe56fjuVdU08eNPijp3Ixph+F8w7hWVArqoeUNUG4Bngqnbb\nKBArIgKMBo4DTUGMyfRWSxVSkc63WfAFp+REZtu5JTq7y/jz+wfZuLeEH102l1njezg1pzEmKIKZ\nFFKAPK/3+e4yb38A5gKFQDZwp6p62h9IRFaJyGYR2TwS6hsNOs1NTp9Cd7WFosfC7BWQ9axT/K6F\njyePdhZWcN9ru7lo7jhuOWNqEII2xvTGQHc0XwJkApOADOAPIhLXfiNVfVRVl6jqkuTk5P6O0ZTm\nQlOdfwPEMm6BmlLY9+bJZUXZbWoTNTV7+O6zmcRHh/PLzy9Eurr7MMb0q2AmhQJgstf7VHeZty8D\nL6kjF/gUsN7Gwaa1+cePKqTTL4DRE9p2OLebAGfttgL2HK3kF1fOJ3G0PX5qzGASzKTwCTBTRKa5\nncc3Aq+02+YwcCGAiIwHZgMHghiT6Y2iLAgdBUkzu982NAwW3QB734CqYmishZI9rUmhsdnDg2/v\nIz0ljuXpvZt9zRgTPEFLCqraBNwOvAHsAp5T1R0icpuI3OZu9h/AmSKSDfwDuEdVjwUrJtNLRdnO\noLPQcP+2z1jplL7Ieg6Kdzmv3cdRn9+cT97xWr538SxrNjJmEApqmQtVXQesa7fsEa/XhcDnghmD\n6aOWQnZzLvN/n+TZkLLEaUIaNdpZNmEB9U3N/OHtfWRMTrBBasYMUgPd0WwGu4pCp+O4p7OaZdzs\nPLG0bbVTQC8hjWc+zqOwvI7vf87uEowZrCwpmK71dv7j9M9DWCTkfwwT0qlrVh7akMuytLGcPcNm\nSDNmsLKkYLpWlA2IMzlOT0QlwJzLndcTFvLUh4corqzne3aXYMygZknBdK0oy5k+c1QvRhwvXglA\nfXI6D7+zn7NmJHLGKYkBDtAYE0iWFEzXirJ6P6vZKefDzc/xp8ollFY38L2LZwc2NmNMwFlSMJ2r\nK4cTB3ufFESonHIBj2zK57zZyZw2dUxAwzPGBJ4lBdO5ozuc3z198sjL45sOUlbTyPcunhWgoIwx\nwWRJwXTuiFvewsc8CP6orGvksU0HuHjeeBamJgQwMGNMsFhSMJ0ryoaYZBg9vle7v5d7jMq6Jr5y\n9rQAB2aMCRZLCqZzLZ3MvXyEdFPuMWIiQq0vwZghxJKC8a2pAUp296k/4b3cUk4/JZHwUPtnZsxQ\nYf9bjW/H9kBzQ6+fPMo/UcOnx6o5y0YvGzOkWFIwvvmYLa0n3s8tBbCSFsYMMZYUjG9F2RAeDYnT\ne7X7ptxjJI0exazxowMcmDEmmCwpGN+Ksp16RyGhPd5VVXl//zHOnpFodY6MGWIsKZiOVPtU3mLP\n0UqOVTVYf4IxQ5AlBdNR2WGnxEUvk8Kmfc7keZYUjBl6LCmYjvrYyfxe7jFOSY5hUkJUAIMyxvQH\nSwqmo6JskBAYN6/HuzY0efjo0+P21JExQ5QlBdNRURYkzoSI6B7vmplXRk1DszUdGTNEWVIwHRVl\n974/IfcYIYJNpmPMEGVJwbRVcxzK83pdGfW93GMsTE0gPio8wIEZY/qDJQXTVmsnc8/vFCrrGsnM\nK+OsGXaXYMxQZUnBtNWSFMb3PCl8dOA4zR61/gRjhjBLCqatomyInQijk3u866bcY0SGh3DqFCuV\nbcxQZUnBtFWU3afxCUvTxhIZ3vPSGMaYwcGSgjmpsc6dQ6HnTUdHK+rYV1xl4xOMGeIsKZiTSnaB\nNvcqKbyXa6UtjBkOLCmYk/rw5NGm3GOMiQ5n3sS4AAdljOlPlhTMSUXZEBELY6b1aDdV5b3cY5w5\nI4mQECuVbcxQFtSkICLLRWSPiOSKyL2dbHOeiGSKyA4R2RjMeEw3jmTBhHQI6dk/i/0lVRytqLf+\nBGOGgaAlBREJBR4CVgDzgJtEZF67bRKAPwJXqup84LpgxWO64fHA0ZweNx01NXv4P+t2EyLw2ZmW\nFIwZ6oJ5p7AMyFXVA6raADwDXNVum5uBl1T1MICqFgcxHtOVE59CQ1WPkoKq8sO12by9u5hfXJVO\n6pieF9AzxgwufiUFEXlJRC4TkZ4kkRQgz+t9vrvM2yxgjIi8IyJbROSLnZx/lYhsFpHNJSUlPQjB\n+K0oy/ndgzEKv12/l+c25/PtC2ZwyxlTgxSYMaY/+fsh/0ecb/X7ROQ+EZkdoPOHAacBlwGXAD8W\nkVntN1LVR1V1iaouSU7u+Uhb44eibAgJg+Q5fm2++qNDPPh2Ljcsmcx3L+7wV2aMGaL8Sgqq+paq\nrgROBQ4Cb4nI+yLyZRHprBxmATDZ632qu8xbPvCGqlar6jHgXWBRTy7ABEhRNiTNhvDIbjd9Y0cR\nP/5rDhfMGcd/XZOOiD1xZMxw4XdzkIgkArcCXwW2Ab/DSRLrO9nlE2CmiEwTkQjgRuCVdtu8DJwt\nImEiEg2cDuzq0RWYwPBzDoXNB4/z7ae3sTA1gT/cvJiwUHuq2ZjhJMyfjURkLTAb+AtwhaoecVc9\nKyKbfe2jqk0icjvwBhAKPK6qO0TkNnf9I6q6S0ReB7IAD/CYqub07ZJMj1WVQOWRbudQyC2u4itP\nbCYlIYrHb11KdIRf/3yMMUOIv/+rH1TVDb5WqOqSznZS1XXAunbLHmn3/lfAr/yMwwRDaydz13cK\nD7+zH48qT/zrMsbGRPRDYMaY/ubvvf88d0wBACIyRkS+GaSYTH9rnUMhvcvNsgvKWJo2lslj7dFT\nY4Yrf5PC11S1rOWNqp4AvhackEy/K8qC+CkQPbbTTWoamsgtriI9Jb4fAzPG9Dd/k0KoeD1i4o5W\ntvaD4cKPTuZdRyrwKCywpGDMsOZvUngdp1P5QhG5EHjaXWaGuoZqOLav26SQnV8OWFIwZrjzt6P5\nHuDrwDeCiAilAAAZlElEQVTc9+uBx4ISkelfxbsA7T4pFFSQNHoU4+NG9U9cxpgB4VdSUFUP8LD7\nY4aTI9ud3908jppTUM6ClDgbqGbMMOdv7aOZIvKCiOwUkQMtP8EOzvSDomyIjIf4yZ1uUtvQzL7i\nSms6MmYE8LdP4U84dwlNwPnAk8BTwQrK9KOibKcIXhd3ADvdTmZ78siY4c/fpBClqv8ARFUPqerP\ncIrYmaHM0wxHd3Tbn5BT4HYyp1pSMGa487ejud4tm73PLV1RAIwOXlimX5TmQlNtt+WyswvKSRod\nwYS47ovlGWOGNn/vFO4EooFv45S6vgX4UrCCMv2kZSSzH3cK6Snx1slszAjQ7Z2CO1DtBlW9C6gC\nvhz0qEz/KMqC0AhI6nw+hLrGZvYVV3HxvPH9GJgxZqB0e6egqs3A2f0Qi+lvR7KcSXXCOh+cvvNI\nBc0etU5mY0YIf/sUtonIK8DzQHXLQlV9KShRmcCpr4LXfgD1lR3X5X0M6dd0uXtrJ7MlBWNGBH+T\nQiRQClzgtUwBSwqDXd6HkLkaxqRBWFTbdWOnwfxru9w9O7+cxJgIJsZbJ7MxI4G/I5qtH2GoKjvs\n/L51HcSn9Hj3bOtkNmZE8XfmtT/h3Bm0oar/GvCITGCVHYaQcIid0ONdWzqZL5prnczGjBT+Nh+9\n6vU6ErgGKAx8OCbgThyC+FQICe3xrrusk9mYEcff5qMXvd+LyNPApqBEZAKr7DCMmdqrXVs6mdNT\n4gIZkTFmEPN38Fp7M4FxgQzEBEnZYUiY0qtdswvKGRMdTkpCVPcbG2OGBX/7FCpp26dQhDPHghnM\nGmuhurgPSaHCOpmNGWH8ulNQ1VhVjfP6mdW+SckMQmV5zu+Ejs1HHo/yr3/+hJczC3zuWtfYzL6j\nVi7bmJHG3/kUrhGReK/3CSJydfDCMgHR8jiqjzuFw8dreHt3Mfe+mE1ucVWH9XuKKmnyqCUFY0YY\nf/sUfqqq5S1vVLUM+GlwQjIBU3bQ+e0jKeQUOn+dzarc+cw26pua26zPbu1ktqRgzEjib1LwtZ2/\nj7OagVJ22Cl4N7rjGIUdhRWEhwq/vT6DHYUV/PrNvW3W5xSUkxAdTuoY62Q2ZiTxNylsFpHfiMh0\n9+c3wJZgBmYCoOywM81mSMe/5pyCcmaNj+WyhRNZefoUHn33AJv2HWtdn11QzgLrZDZmxPE3KdwB\nNADPAs8AdcC3ghWUCZBOHkdVVXYUVjB/kjP+4EeXzWPGuNF877lMjlc3UN/UzN6jldZ0ZMwI5O/T\nR9Wqeq+qLlHVpar6Q1Wt7n5PM6A6SQpFFXUcr25o/dCPigjlwRsXU1bTyA9eyGJPUSWNzdbJbMxI\n5O/TR+tFJMHr/RgReSN4YZk+a6iB6hLfncwFFQCtdwoA8ybFcc+KOby16yg//9tOwMplGzMS+dt8\nlOQ+cQSAqp7ARjQPbi2Po45J67BqR2E5IjB3YtvyFV8+M41zZiWz5dAJ4qOsk9mYkcjfpOARkdav\nnCKSho+qqWYQ6WKMQk5BBdOTRxMd0fYBspAQ4f7rFpIYE8HiKQnWyWzMCOTvY6X/DmwSkY2AAJ8F\nVnW3k4gsB34HhAKPqep9nWy3FPgAuFFVX/AzJtOVskPObx9JYWdhOUunjfW527jYSF6542zCQy0h\nGDMS+Vsl9XURWYKTCLYBfwVqu9pHREKBh4CLgXzgExF5RVV3+tjul8CbPQ/fdKrsMISOgpi2rXzH\nqxsoLK8jfVLn/QVWAM+YkcvfgnhfBe4EUoFM4Aycb/YXdLHbMiBXVQ+4x3gGuArY2W67O4AXgaU9\nitx0rewwJHQco7DDHcns3clsjDEt/O1TuBPnQ/uQqp4PLAbKut6FFCDP632+u6yViKTgTNjzcFcH\nEpFVIrJZRDaXlJT4GfII18njqCefPLIni4wxHfmbFOpUtQ5AREap6m5gdgDO/wBwj6p6utpIVR91\nx0gsSU5ODsBpR4CyQz6ro+YUlpM6Jor46PABCMoYM9j529Gc745T+CuwXkROAIe62acAmOz1PtVd\n5m0J8Iz7lEsScKmINKnqX/2My/hSXwU1pZ10Mld02Z9gjBnZ/O1ovsZ9+TMR2QDEA693s9snwEwR\nmYaTDG4Ebm533Gktr0Xkz8CrlhACoLxlHoW2SaGyrpFPj1Vz7eIUHzsZY0wvKp2q6kY/t2sSkduB\nN3AeSX1cVXeIyG3u+kd6em7jp9YxCm2bj3YdqQSsHLYxpnNBLX+tquuAde2W+UwGqnprMGMZUToZ\nuJbjzpEwP8WePDLG+OZvR7MZSsoOQVgkjG47RmFHYQXJsaMYFxs5QIEZYwY7SwrDxD/3lXDVHzZR\nXtMIJw45dwntylTsKCwn3cYnGGO6YElhmHg9p4jt+eU8tumAzzEKdY3N7CuusvEJxpguWVIYJrbn\nO2MJH9/0KR4fSWFPUSXNHiXd+hOMMV2wpDAM1DU2s/tIJRfPG480VhFSe7xjJ3NreQu7UzDGdC6o\nTx+Z/rGjsIImj3LdaalM10PwKVSMmkRcu23iIsNsjgRjTJfsTmEY2J7nNB1lTE7g1nnOX+lz+9sV\nwisoZ/6keJsjwRjTJUsKw8D2/DImxEUyLi6SCZ5iAB7LaaaovA6AxmYPu4oqrT/BGNMtSwrDwPa8\nMhZNdvsKyg7jCYvkmCeWhzbkArC/pIqGJo+NZDbGdMuSwhBXVtPAwdIaFk1OcBccIiRhKtctmcIz\nnxwm/0QNO1rLZdudgjGma5YUhrjt+c5TRRmpLUnBeRz1jgtmIAh/eDuXnMJyosJDmZY0egAjNcYM\nBfb00RC3Pa8MEUhPPdl8ROpSJiVEcdOyyTz10WEmj4li7sRYQkOsk9kY0zW7UxjitueVMT15NHGR\n4VBXAbUnWscofOv8GYSFCAdLa6w/wRjjF0sKQ5iqsj2/nEXeTUfQmhTGxUXyxc845bOtP8EY4w9r\nPhrCCsvrOFZVT4bXk0dAm9HM3zxvBpV1TVw0d/wARGiMGWosKQxhLYPWTj551HFynTExEdz3+YX9\nHZoxZoiy5qMhbHteGRGhIcyZ4DYNlR2G8GiIThzYwIwxQ5YlhSEsM6+MeZPiiAhz/xrLDjl3CVbK\nwhjTS5YUhqhmj5JdUE5GS9MRuElhSuc7GWNMNywpDFG5xVXUNDSfLG8BPifXMcaYnrCkMES1djK3\nPI5aWwZ15ZYUjDF9YklhiMrMLyM2Moy0xBhnQXme89uSgjGmDywpDFHb88pYlJpASEvpipbHUcdM\n7XwnY4zphiWFIaiusZndRZVt+xOOf+r8TrCkYIzpPUsKQ9COwnKaPXqyPwGgKBtiJ0L02IELzBgz\n5FlSGIK257nlsie3SwoTFgxQRMaY4cKSwhC0Pb+MifHO9JsANNbBsT0wwcpZGGP6xpLCENTSydyq\nZDd4muxOwRjTZ5YUhpgO028CFGU5vy0pGGP6yJLCENMy/WabJ4+KsiEiFsZMG6CojDHDRVCTgogs\nF5E9IpIrIvf6WL9SRLJEJFtE3heRRcGMZzhomX5zQUq7pDAhHUIsxxtj+iZonyIiEgo8BKwA5gE3\nici8dpt9CpyrqguA/wAeDVY8w0FReR1PfnCIhSnxxEaGOws9HijKsaYjY0xABPOr5TIgV1UPqGoD\n8AxwlfcGqvq+qp5w334IpAYxniGtvqmZ257aQm1DE/df53VDdeJTaKi0pGCMCYhgJoUUIM/rfb67\nrDNfAV7ztUJEVonIZhHZXFJSEsAQh46fvbKDzLwyfn39ImaOjz25oijb+W1JwRgTAIOiEVpEzsdJ\nCvf4Wq+qj6rqElVdkpyc3L/BDQJrPjrM0x/n8a3zp7M8fWLblUXZEBIGyXMHJjhjzLASzDmaC4DJ\nXu9T3WVtiMhC4DFghaqWBjGeIWnLoRP89JUczp2VzPcunt1xg6JsSJoN4ZH9H5wxZtgJ5p3CJ8BM\nEZkmIhHAjcAr3huIyBTgJeBfVHVvEGMZkoor6vjGU1uYGB/FgzcuJjTExzSbRVnWdGSMCZig3Smo\napOI3A68AYQCj6vqDhG5zV3/CPATIBH4ozjzCjep6pJgxTTYqCprPj6MRyEtMZqpY2OYlBBJWGgI\nDU0evrl6K5V1TTz5lWXER4d3PEBVCVQegYlW3sIYExjBbD5CVdcB69ote8Tr9VeBrwYzhsFsw55i\n/n1tTptlYSHC5LHRjAoLYXdRJb+/aTFzJsT5PsBR62Q2xgRWUJOC6Zyq8pv1e5k8Noqnv3YG+Sdq\nOVRazcHSGg6X1nD4eA0/vHQOVyya1PlBjrjlLcan90/Qxphhz5LCAHljx1FyCir41RcWkjommtQx\n0ZxxSmLPDlKUDfGTbQ4FY0zADIpHUkcaj0f57fq9nJIUwzWLuxq60Y2ibCuXbYwJKEsKA+Dv2UfY\nc7SSOy+aSVhoL/8KGmqgdJ/1JxhjAsqSQj9r9igPvLWXWeNHc8XCLvoLulO8E9RjScEYE1CWFPrZ\ny5kF7C+p5rsXzSLE17gDf9kcCsaYILCk0I8amz387h/7mDcxjkvmT+jbwYqyITIeEqYEJjhjjMGS\nQr96aWs+h0pr+N7FfbxLgJOdzNLH4xhjjBdLCv2kocnDg//IZdHkBC6cO65vB/M0w9Ed1nRkjAk4\nSwr95NnNeRSU1fK9i2chff12X7ofGmssKRhjAs4GrwWRx6McrazjUGkND72dy5KpYzhnZlLfD9za\nyWxjFIwxgWVJIYD2l1TxzMeH+fRYDYePV3OotIb6Jg8A4aHC727M6PtdAjj9CaERkDSr78cyxhgv\nlhQCZOPeEm5fvZX6Zg/TEmNIS4zh3FnJTHVfzxw/mvFxAZrzoCgLkudAWERgjmeMMS5LCn2kqjzx\n/kF+8epOZk+I47EvLSElISqYJ3QK4c1aHrxzGGNGLEsKfdDY7OHnf9vBUx8e5qK54/ndjRnEjAry\nH2nVUag5ZnMoGGOCwpJCL5XXNPLNNVt4L7eUr597CvdcMqfvYw/8ccRGMhtjgseSQhcO78tif3UU\nTRFtJ7lpbPZw/xt7yDtRw6++sJDrlkzu5Ah+KMqBpJkQNsrP7VvmUJjf+3MaY0wnLCl04sM9ecxb\ncwlVnoXc0fjtDuvHxkSw5mtnsDStD3MZlO6H//4snHM3nP9D//Y59D6Mne6UuDDGmACzpODDriMV\nvLzmEc6QGi4L38qMW9Npjkxos83ksdHER/mYN7knMtc4lU63rYZz74WQbsYSVhTCgQ3w2e/37bzG\nGNMJSwrtFJTVcuufPuYPIRvxRMQTUl/O3NI3YdnXAnsiTzNsf9r5xl+RD59uhOnnd73P9mecJLLo\npsDGYowxLitz4aWspoEvPf4x8Q1FLNVsQs68HcYvgMzVgT/ZpxuhogCW/xJGxTt3DV1RdbaZciYk\nTg98PMYYgyWFVnWNzXzlic0cLq3hfxftAwQW3QiLV0LhNji6M7An3LYaIhNg/jWw4POw6xWoK+98\n+/xPnJnWMm4ObBzGGOPFkgLQ1Ozhjqe3sfXwCR64YSGTD62Faec4cxUsuA5CwgJ7t1BbBrtfhQVf\ngPBIyLgFmupgx9rO99n2FIRHw/yrAxeHMca0M2KTgqpSWlXPlkMnuPelbNbvPMrPrpjPpXGfQtkh\nWHyLs2FMkjN6OOtZaG4MzMl3vOQkgYyVzvuUU52yFds6STwNNU7CmHcVjIoNTAzGGOPDiOlo3l1U\nwcuZhRwureFgqVOsrqq+qXX9t86fzpfOTIO1v4RRcTDn8pM7Z6x0vtnnvgWzV/Q9mMw1kDwXJi12\n3os4zULrfwLH9jnjFtoE/yrUV5xMIsYYEyQjJikcLq3hf949wOSx0UxNjGZp2limjI0mLSmaU5JG\nk5YUA/VVsPNlp1knIvrkzjMvhphkpwmnr0mhZI/TP/C5/2w7a9rCG+CtnzvNVBf9rO0+maudpqyp\nZ/Xt3MYY040RkxTOnzOO3f+xnLDQLlrMdv4VGqs7fiMPDXc+tD96BKqPOU1KvZW5BiQUFlzfdnns\nBJhxkfPY6QU/hpBQZ3lZHhzYCOf5MY7BGGP6aMR8yoSHhnSdEMD5wE6cAZOXdVyXsRI8TZD9fO+D\naG5yPvRnfg5ix3dcv3glVB6B/RtOLtv+NKDOk1DGGBNkIyYpdOv4ATj0ntO272sinPHznD6AvjyF\ndGADVBU5H/6+zFoOUWNOnkPVeZ32WRiT1vvzGmOMnywptMhcAxLS9WjhjJXOrGctlUp7attTEJ0I\nMy/xvT5slNOstPvvUHvCqXN04uDJJ6GMMSbILCkAeDyQ+TSccj7ETep8u/TPO9Ngdjf62Jea47Bn\nnfOh39WMaRk3Q3M95LzonCciFuZe0fPzGWNMLwQ1KYjIchHZIyK5InKvj/UiIg+667NE5NRgxtOp\nTzc69Yc6a9ZpET0WZl8K2c9BU0PPzpHzIjQ3dD8ieeIiGJ8Om//kjE2YfzVExPTsXMYY00tBSwoi\nEgo8BKwA5gE3ici8dputAGa6P6uAh4MVT5cy1ziF6WZf1v22i2+BmlLY90YPz7HamRinuxnTWsYs\nHM3x/SSUMcYEUTAfSV0G5KrqAQAReQa4CvAuInQV8KSqKvChiCSIyERVPRLwaHLfgjf+3fe60v1w\n6hedkhPdmX4BxE6EV+6At//Tv3OrwrE9TvE7fyy43hnIljAFppzh3z7GGBMAwUwKKUCe1/t84HQ/\ntkkB2iQFEVmFcyfBlClTehfNqDhInu173fh0OPN2/44TEgrL73NKVfRE6hLI8LPk9ehkWPH/nKTg\n60koY4wJkiExeE1VHwUeBViyZIn26iCTl8HkJwMT0Pyrg1+YbulXgnt8Y4zxIZgdzQWA9+TFqe6y\nnm5jjDGmnwQzKXwCzBSRaSISAdwIvNJum1eAL7pPIZ0BlAelP8EYY4xfgtZ8pKpNInI78AYQCjyu\nqjtE5DZ3/SPAOuBSIBeoAb4crHiMMcZ0L6h9Cqq6DueD33vZI16vFfhWMGMwxhjjPxvRbIwxppUl\nBWOMMa0sKRhjjGllScEYY0wrcfp6hw4RKQEO9XL3JOBYAMMZSkbqtdt1jyx23Z2bqqrJ3R1oyCWF\nvhCRzaq6ZKDjGAgj9drtukcWu+6+s+YjY4wxrSwpGGOMaTXSksKjAx3AABqp127XPbLYdffRiOpT\nMMYY07WRdqdgjDGmC5YUjDHGtBoxSUFElovIHhHJFZF7BzqeYBGRx0WkWERyvJaNFZH1IrLP/T1m\nIGMMBhGZLCIbRGSniOwQkTvd5cP62kUkUkQ+FpHt7nX/3F0+rK+7hYiEisg2EXnVfT/sr1tEDopI\ntohkishmd1nArntEJAURCQUeAlYA84CbRGTewEYVNH8Glrdbdi/wD1WdCfzDfT/cNAHfV9V5wBnA\nt9y/4+F+7fXABaq6CMgAlrtzkwz3625xJ7DL6/1Iue7zVTXDa2xCwK57RCQFYBmQq6oHVLUBeAa4\naoBjCgpVfRc43m7xVcAT7usngCDPJdr/VPWIqm51X1fifFCkMMyvXR1V7ttw90cZ5tcNICKpwGXA\nY16Lh/11dyJg1z1SkkIKkOf1Pt9dNlKM95rRrggYP5DBBJuIpAGLgY8YAdfuNqFkAsXAelUdEdcN\nPAD8APB4LRsJ163AWyKyRURWucsCdt1BnWTHDD6qqiIybJ9DFpHRwIvAd1S1QkRa1w3Xa1fVZiBD\nRBKAtSKS3m79sLtuEbkcKFbVLSJynq9thuN1u85W1QIRGQesF5Hd3iv7et0j5U6hAJjs9T7VXTZS\nHBWRiQDu7+IBjicoRCQcJyGsVtWX3MUj4toBVLUM2IDTpzTcr/ss4EoROYjTHHyBiDzF8L9uVLXA\n/V0MrMVpHg/YdY+UpPAJMFNEpolIBHAj8MoAx9SfXgG+5L7+EvDyAMYSFOLcEvwvsEtVf+O1alhf\nu4gku3cIiEgUcDGwm2F+3ar6b6qaqqppOP+f31bVWxjm1y0iMSIS2/Ia+ByQQwCve8SMaBaRS3Ha\nIEOBx1X1vwY4pKAQkaeB83BK6R4Ffgr8FXgOmIJTdvx6VW3fGT2kicjZwD+BbE62Mf8Qp19h2F67\niCzE6VgMxfmS95yq/kJEEhnG1+3NbT66S1UvH+7XLSKn4NwdgNP8v0ZV/yuQ1z1ikoIxxpjujZTm\nI2OMMX6wpGCMMaaVJQVjjDGtLCkYY4xpZUnBGGNMK0sKxvQjETmvpaKnMYORJQVjjDGtLCkY44OI\n3OLOU5ApIv/tFp2rEpHfuvMW/ENEkt1tM0TkQxHJEpG1LbXsRWSGiLzlznWwVUSmu4cfLSIviMhu\nEVkt3gWajBlglhSMaUdE5gI3AGepagbQDKwEYoDNqjof2IgzWhzgSeAeVV2IM6K6Zflq4CF3roMz\ngZYqlouB7+DM7XEKTh0fYwYFq5JqTEcXAqcBn7hf4qNwCox5gGfdbZ4CXhKReCBBVTe6y58Annfr\n06So6loAVa0DcI/3sarmu+8zgTRgU/Avy5juWVIwpiMBnlDVf2uzUOTH7bbrbY2Yeq/Xzdj/QzOI\nWPORMR39A/iCW6++Zf7bqTj/X77gbnMzsElVy4ETIvJZd/m/ABvd2d/yReRq9xijRCS6X6/CmF6w\nbyjGtKOqO0XkR8CbIhICNALfAqqBZe66Ypx+B3BKFT/ifugfAL7sLv8X4L9F5BfuMa7rx8swples\nSqoxfhKRKlUdPdBxGBNM1nxkjDGmld0pGGOMaWV3CsYYY1pZUjDGGNPKkoIxxphWlhSMMca0sqRg\njDGm1f8H/9YwM6E4xjsAAAAASUVORK5CYII=\n",
      "text/plain": [
       "<matplotlib.figure.Figure at 0x1f5927d4c18>"
      ]
     },
     "metadata": {},
     "output_type": "display_data"
    },
    {
     "data": {
      "image/png": "iVBORw0KGgoAAAANSUhEUgAAAYUAAAEWCAYAAACJ0YulAAAABHNCSVQICAgIfAhkiAAAAAlwSFlz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\nAAAASUVORK5CYII=\n",
      "text/plain": [
       "<matplotlib.figure.Figure at 0x1f59292deb8>"
      ]
     },
     "metadata": {},
     "output_type": "display_data"
    }
   ],
   "source": [
    "# list all data in history\n",
    "print(history.history.keys())\n",
    "# summarize history for accuracy\n",
    "plt.plot(history.history['accuracy'])\n",
    "plt.plot(history.history['val_accuracy'])\n",
    "plt.title('model accuracy')\n",
    "plt.ylabel('accuracy')\n",
    "plt.xlabel('epoch')\n",
    "plt.legend(['train', 'test'], loc='upper left')\n",
    "plt.show()\n",
    "# summarize history for loss\n",
    "plt.plot(history.history['loss'])\n",
    "plt.plot(history.history['val_loss'])\n",
    "plt.title('model loss')\n",
    "plt.ylabel('loss')\n",
    "plt.xlabel('epoch')\n",
    "plt.legend(['train', 'test'], loc='upper left')\n",
    "plt.show()"
   ]
  },
  
