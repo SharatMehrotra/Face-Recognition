{
 "cells": [
  {
   "cell_type": "markdown",
   "metadata": {},
   "source": [
    "# Face Recognition using CNN"
   ]
  },
  {
   "cell_type": "markdown",
   "metadata": {},
   "source": [
    " # Step1:\n",
    " \n",
    "At the first, you should input the required libraries:"
   ]
  },
  {
   "cell_type": "code",
   "execution_count": 1,
   "metadata": {},
   "outputs": [
    {
     "name": "stderr",
     "output_type": "stream",
     "text": [
      "C:\\SHARAT\\Anaconda\\lib\\site-packages\\numpy\\_distributor_init.py:32: UserWarning: loaded more than 1 DLL from .libs:\n",
      "C:\\SHARAT\\Anaconda\\lib\\site-packages\\numpy\\.libs\\libopenblas.PYQHXLVVQ7VESDPUVUADXEVJOBGHJPAY.gfortran-win_amd64.dll\n",
      "C:\\SHARAT\\Anaconda\\lib\\site-packages\\numpy\\.libs\\libopenblas.TXA6YQSD3GCQQC22GEQ54J2UDCXDXHWN.gfortran-win_amd64.dll\n",
      "  stacklevel=1)\n",
      "C:\\SHARAT\\Anaconda\\lib\\site-packages\\h5py\\__init__.py:34: FutureWarning: Conversion of the second argument of issubdtype from `float` to `np.floating` is deprecated. In future, it will be treated as `np.float64 == np.dtype(float).type`.\n",
      "  from ._conv import register_converters as _register_converters\n",
      "Using TensorFlow backend.\n"
     ]
    }
   ],
   "source": [
    "import keras\n",
    "from keras.models import Sequential\n",
    "from keras.layers import Conv2D, MaxPooling2D, Dense, Flatten, Dropout\n",
    "from keras.optimizers import Adam\n",
    "from keras.callbacks import TensorBoard\n",
    "\n",
    "import numpy as np\n",
    "import pandas as pd\n",
    "import matplotlib.pyplot as plt\n",
    "from sklearn.model_selection import train_test_split\n",
    "\n",
    "from sklearn.metrics import confusion_matrix\n",
    "from sklearn.metrics import classification_report\n",
    "from sklearn.metrics import roc_curve, auc\n",
    "from sklearn.metrics import accuracy_score\n",
    "from keras.utils import np_utils\n",
    "import itertools"
   ]
  },
  {
   "cell_type": "markdown",
   "metadata": {},
   "source": [
    "# Step2:\n",
    "\n",
    "* Load Dataset :\n",
    "\n",
    "After loading the Dataset you have to normalize every image.\n",
    "\n",
    "Note: an image is a Uint8 matrix of pixels and for calculation, you need to convert the format of the image to float or double"
   ]
  },
  {
   "cell_type": "code",
   "execution_count": 2,
   "metadata": {},
   "outputs": [
    {
     "name": "stdout",
     "output_type": "stream",
     "text": [
      "x_train : [[0.1882353  0.19215687 0.1764706  ... 0.18431373 0.18039216 0.18039216]\n",
      " [0.23529412 0.23529412 0.24313726 ... 0.1254902  0.13333334 0.13333334]\n",
      " [0.15294118 0.17254902 0.20784314 ... 0.11372549 0.10196079 0.11372549]\n",
      " ...\n",
      " [0.44705883 0.45882353 0.44705883 ... 0.38431373 0.3764706  0.38431373]\n",
      " [0.4117647  0.4117647  0.41960785 ... 0.21176471 0.18431373 0.16078432]\n",
      " [0.45490196 0.44705883 0.45882353 ... 0.37254903 0.39215687 0.39607844]]\n",
      "Y-train shape: [ 0  0  0  0  0  0  0  0  0  0  0  0  1  1  1  1  1  1  1  1  1  1  1  1\n",
      "  2  2  2  2  2  2  2  2  2  2  2  2  3  3  3  3  3  3  3  3  3  3  3  3\n",
      "  4  4  4  4  4  4  4  4  4  4  4  4  5  5  5  5  5  5  5  5  5  5  5  5\n",
      "  6  6  6  6  6  6  6  6  6  6  6  6  7  7  7  7  7  7  7  7  7  7  7  7\n",
      "  8  8  8  8  8  8  8  8  8  8  8  8  9  9  9  9  9  9  9  9  9  9  9  9\n",
      " 10 10 10 10 10 10 10 10 10 10 10 10 11 11 11 11 11 11 11 11 11 11 11 11\n",
      " 12 12 12 12 12 12 12 12 12 12 12 12 13 13 13 13 13 13 13 13 13 13 13 13\n",
      " 14 14 14 14 14 14 14 14 14 14 14 14 15 15 15 15 15 15 15 15 15 15 15 15\n",
      " 16 16 16 16 16 16 16 16 16 16 16 16 17 17 17 17 17 17 17 17 17 17 17 17\n",
      " 18 18 18 18 18 18 18 18 18 18 18 18 19 19 19 19 19 19 19 19 19 19 19 19]\n",
      "x_test shape: (160, 10304)\n"
     ]
    }
   ],
   "source": [
    "#load dataset\n",
    "data = np.load('ORL_faces.npz') \n",
    "\n",
    "# load the \"Train Images\"\n",
    "x_train = data['trainX']\n",
    "#normalize every image\n",
    "x_train = np.array(x_train,dtype='float32')/255\n",
    "\n",
    "x_test = data['testX']\n",
    "x_test = np.array(x_test,dtype='float32')/255\n",
    "\n",
    "# load the Label of Images\n",
    "y_train= data['trainY']\n",
    "y_test= data['testY']\n",
    "\n",
    "# show the train and test Data format\n",
    "print('x_train : {}'.format(x_train[:]))\n",
    "print('Y-train shape: {}'.format(y_train))\n",
    "print('x_test shape: {}'.format(x_test.shape))"
   ]
  },
  {
   "cell_type": "markdown",
   "metadata": {},
   "source": [
    "# Step 3\n",
    "\n",
    "Split DataSet : Validation data and Train \n",
    "\n",
    "Validation DataSet: this data set is used to minimize overfitting.If the accuracy over the training data set increases, but the accuracy over then validation data set stays the same or decreases, then you're overfitting your neural network and you should stop training.\n",
    "\n",
    " * Note: we usually use 30 percent of every dataset as the validation data but Here we only used 5 percent because the number of images in this dataset is very low. \n",
    "\n"
   ]
  },
  {
   "cell_type": "code",
   "execution_count": 3,
   "metadata": {
    "collapsed": true
   },
   "outputs": [],
   "source": [
    "x_train, x_valid, y_train, y_valid= train_test_split(\n",
    "    x_train, y_train, test_size=.05, random_state=1234,)"
   ]
  },
  {
   "cell_type": "markdown",
   "metadata": {},
   "source": [
    "# Step 4\n",
    "\n",
    "for using the CNN, we need to change The size of images ( The size of images must be the same)"
   ]
  },
  {
   "cell_type": "code",
   "execution_count": 4,
   "metadata": {},
   "outputs": [
    {
     "name": "stdout",
     "output_type": "stream",
     "text": [
      "x_train shape: 228\n",
      "x_test shape: (160,)\n"
     ]
    }
   ],
   "source": [
    "im_rows=112\n",
    "im_cols=92\n",
    "batch_size=512\n",
    "im_shape=(im_rows, im_cols, 1)\n",
    "\n",
    "#change the size of images\n",
    "x_train = x_train.reshape(x_train.shape[0], *im_shape)\n",
    "x_test = x_test.reshape(x_test.shape[0], *im_shape)\n",
    "x_valid = x_valid.reshape(x_valid.shape[0], *im_shape)\n",
    "\n",
    "print('x_train shape: {}'.format(y_train.shape[0]))\n",
    "print('x_test shape: {}'.format(y_test.shape))"
   ]
  },
  {
   "cell_type": "markdown",
   "metadata": {},
   "source": [
    "# Step 5\n",
    "\n",
    "\n",
    "Build CNN model:\n",
    " CNN have 3 main layer: \n",
    " * 1-Convolotional layer \n",
    " * 2- pooling layer  \n",
    " * 3- fully connected layer\n",
    " \n",
    " we could build a new architecture of CNN by changing the number and position of layers.\n",
    " "
   ]
  },
  {
   "cell_type": "code",
   "execution_count": 34,
   "metadata": {
    "collapsed": true
   },
   "outputs": [],
   "source": [
    "\n",
    "#filters= the depth of output image or kernels\n",
    "\n",
    "cnn_model= Sequential([\n",
    "    Conv2D(filters=36, kernel_size=7, activation='relu', input_shape= im_shape),\n",
    "    MaxPooling2D(pool_size=2),\n",
    "    Conv2D(filters=54, kernel_size=5, activation='relu', input_shape= im_shape),\n",
    "    MaxPooling2D(pool_size=2),\n",
    "    Flatten(),\n",
    "    Dense(2024, activation='relu'),\n",
    "     Dropout(0.5),\n",
    "    Dense(1024, activation='relu'),\n",
    "    Dropout(0.5),\n",
    "    Dense(512, activation='relu'),\n",
    "    #Dropout(0.5),\n",
    "    #20 is the number of outputs\n",
    "    Dense(20, activation='softmax')  \n",
    "])\n",
    "\n",
    "cnn_model.compile(\n",
    "    loss='sparse_categorical_crossentropy',#'categorical_crossentropy', #for more than 2 categories\n",
    "    optimizer=Adam(lr=0.001),\n",
    "    metrics=['accuracy']\n",
    ")"
   ]
  },
  {
   "cell_type": "markdown",
   "metadata": {},
   "source": [
    "Show the model's parameters."
   ]
  },
  {
   "cell_type": "code",
   "execution_count": 35,
   "metadata": {},
   "outputs": [
    {
     "name": "stdout",
     "output_type": "stream",
     "text": [
      "Model: \"sequential_6\"\n",
      "_________________________________________________________________\n",
      "Layer (type)                 Output Shape              Param #   \n",
      "=================================================================\n",
      "conv2d_11 (Conv2D)           (None, 106, 86, 36)       1800      \n",
      "_________________________________________________________________\n",
      "max_pooling2d_11 (MaxPooling (None, 53, 43, 36)        0         \n",
      "_________________________________________________________________\n",
      "conv2d_12 (Conv2D)           (None, 49, 39, 54)        48654     \n",
      "_________________________________________________________________\n",
      "max_pooling2d_12 (MaxPooling (None, 24, 19, 54)        0         \n",
      "_________________________________________________________________\n",
      "flatten_6 (Flatten)          (None, 24624)             0         \n",
      "_________________________________________________________________\n",
      "dense_21 (Dense)             (None, 2024)              49841000  \n",
      "_________________________________________________________________\n",
      "dropout_16 (Dropout)         (None, 2024)              0         \n",
      "_________________________________________________________________\n",
      "dense_22 (Dense)             (None, 1024)              2073600   \n",
      "_________________________________________________________________\n",
      "dropout_17 (Dropout)         (None, 1024)              0         \n",
      "_________________________________________________________________\n",
      "dense_23 (Dense)             (None, 512)               524800    \n",
      "_________________________________________________________________\n",
      "dense_24 (Dense)             (None, 20)                10260     \n",
      "=================================================================\n",
      "Total params: 52,500,114\n",
      "Trainable params: 52,500,114\n",
      "Non-trainable params: 0\n",
      "_________________________________________________________________\n"
     ]
    }
   ],
   "source": [
    "cnn_model.summary()"
   ]
  },
  {
   "cell_type": "markdown",
   "metadata": {},
   "source": [
    "# Step 6\n",
    "\n",
    "Train the Model\n",
    "\n",
    "* Note: You can change the number of epochs\n"
   ]
  },
  {
   "cell_type": "code",
   "execution_count": 36,
   "metadata": {},
   "outputs": [
    {
     "name": "stdout",
     "output_type": "stream",
     "text": [
      "Train on 228 samples, validate on 12 samples\n",
      "Epoch 1/50\n",
      " - 9s - loss: 2.9946 - accuracy: 0.0439 - val_loss: 3.1925 - val_accuracy: 0.0000e+00\n",
      "Epoch 2/50\n",
      " - 8s - loss: 3.2520 - accuracy: 0.0482 - val_loss: 3.1728 - val_accuracy: 0.0000e+00\n",
      "Epoch 3/50\n",
      " - 9s - loss: 3.0599 - accuracy: 0.0833 - val_loss: 2.9837 - val_accuracy: 0.0833\n",
      "Epoch 4/50\n",
      " - 8s - loss: 2.9790 - accuracy: 0.0833 - val_loss: 2.9836 - val_accuracy: 0.0000e+00\n",
      "Epoch 5/50\n",
      " - 9s - loss: 2.9589 - accuracy: 0.1096 - val_loss: 2.9989 - val_accuracy: 0.0000e+00\n",
      "Epoch 6/50\n",
      " - 8s - loss: 2.9437 - accuracy: 0.1140 - val_loss: 2.9931 - val_accuracy: 0.0000e+00\n",
      "Epoch 7/50\n",
      " - 9s - loss: 2.8723 - accuracy: 0.1754 - val_loss: 2.9987 - val_accuracy: 0.0833\n",
      "Epoch 8/50\n",
      " - 9s - loss: 2.8287 - accuracy: 0.1711 - val_loss: 2.8437 - val_accuracy: 0.0000e+00\n",
      "Epoch 9/50\n",
      " - 8s - loss: 2.7467 - accuracy: 0.2105 - val_loss: 2.7000 - val_accuracy: 0.0833\n",
      "Epoch 10/50\n",
      " - 9s - loss: 2.5902 - accuracy: 0.3596 - val_loss: 2.5498 - val_accuracy: 0.2500\n",
      "Epoch 11/50\n",
      " - 8s - loss: 2.3893 - accuracy: 0.2982 - val_loss: 2.1918 - val_accuracy: 0.5000\n",
      "Epoch 12/50\n",
      " - 9s - loss: 2.1075 - accuracy: 0.4605 - val_loss: 1.9017 - val_accuracy: 0.5000\n",
      "Epoch 13/50\n",
      " - 8s - loss: 1.8892 - accuracy: 0.4167 - val_loss: 1.7170 - val_accuracy: 0.6667\n",
      "Epoch 14/50\n",
      " - 9s - loss: 1.5252 - accuracy: 0.5746 - val_loss: 1.1169 - val_accuracy: 0.8333\n",
      "Epoch 15/50\n",
      " - 7s - loss: 1.2447 - accuracy: 0.6096 - val_loss: 1.0389 - val_accuracy: 0.8333\n",
      "Epoch 16/50\n",
      " - 8s - loss: 1.0214 - accuracy: 0.7281 - val_loss: 0.7248 - val_accuracy: 0.7500\n",
      "Epoch 17/50\n",
      " - 7s - loss: 0.7957 - accuracy: 0.7895 - val_loss: 0.4659 - val_accuracy: 0.9167\n",
      "Epoch 18/50\n",
      " - 7s - loss: 0.6078 - accuracy: 0.8333 - val_loss: 0.2660 - val_accuracy: 1.0000\n",
      "Epoch 19/50\n",
      " - 6s - loss: 0.5744 - accuracy: 0.8377 - val_loss: 0.3038 - val_accuracy: 0.9167\n",
      "Epoch 20/50\n",
      " - 6s - loss: 0.3191 - accuracy: 0.9211 - val_loss: 0.3912 - val_accuracy: 0.8333\n",
      "Epoch 21/50\n",
      " - 6s - loss: 0.2603 - accuracy: 0.9518 - val_loss: 0.1637 - val_accuracy: 1.0000\n",
      "Epoch 22/50\n",
      " - 6s - loss: 0.1820 - accuracy: 0.9342 - val_loss: 0.0424 - val_accuracy: 1.0000\n",
      "Epoch 23/50\n",
      " - 7s - loss: 0.1813 - accuracy: 0.9254 - val_loss: 0.0686 - val_accuracy: 1.0000\n",
      "Epoch 24/50\n",
      " - 7s - loss: 0.1959 - accuracy: 0.9342 - val_loss: 0.0442 - val_accuracy: 1.0000\n",
      "Epoch 25/50\n",
      " - 6s - loss: 0.1019 - accuracy: 0.9781 - val_loss: 0.0383 - val_accuracy: 1.0000\n",
      "Epoch 26/50\n",
      " - 7s - loss: 0.0645 - accuracy: 0.9781 - val_loss: 0.0272 - val_accuracy: 1.0000\n",
      "Epoch 27/50\n",
      " - 6s - loss: 0.0787 - accuracy: 0.9737 - val_loss: 0.0613 - val_accuracy: 1.0000\n",
      "Epoch 28/50\n",
      " - 7s - loss: 0.0537 - accuracy: 0.9956 - val_loss: 0.0912 - val_accuracy: 0.9167\n",
      "Epoch 29/50\n",
      " - 7s - loss: 0.0310 - accuracy: 0.9956 - val_loss: 0.0731 - val_accuracy: 1.0000\n",
      "Epoch 30/50\n",
      " - 7s - loss: 0.0297 - accuracy: 0.9956 - val_loss: 0.0274 - val_accuracy: 1.0000\n",
      "Epoch 31/50\n",
      " - 7s - loss: 0.0506 - accuracy: 0.9825 - val_loss: 0.0170 - val_accuracy: 1.0000\n",
      "Epoch 32/50\n",
      " - 7s - loss: 0.0512 - accuracy: 0.9912 - val_loss: 0.0274 - val_accuracy: 1.0000\n",
      "Epoch 33/50\n",
      " - 7s - loss: 0.0223 - accuracy: 0.9912 - val_loss: 0.0512 - val_accuracy: 1.0000\n",
      "Epoch 34/50\n",
      " - 7s - loss: 0.0202 - accuracy: 0.9868 - val_loss: 0.0225 - val_accuracy: 1.0000\n",
      "Epoch 35/50\n",
      " - 7s - loss: 0.0168 - accuracy: 0.9956 - val_loss: 0.0036 - val_accuracy: 1.0000\n",
      "Epoch 36/50\n",
      " - 7s - loss: 0.0062 - accuracy: 1.0000 - val_loss: 0.0106 - val_accuracy: 1.0000\n",
      "Epoch 37/50\n",
      " - 7s - loss: 0.0178 - accuracy: 0.9956 - val_loss: 0.0014 - val_accuracy: 1.0000\n",
      "Epoch 38/50\n",
      " - 7s - loss: 0.0120 - accuracy: 0.9956 - val_loss: 2.3616e-04 - val_accuracy: 1.0000\n",
      "Epoch 39/50\n",
      " - 6s - loss: 0.0102 - accuracy: 1.0000 - val_loss: 2.4085e-04 - val_accuracy: 1.0000\n",
      "Epoch 40/50\n",
      " - 6s - loss: 0.0099 - accuracy: 0.9956 - val_loss: 0.0012 - val_accuracy: 1.0000\n",
      "Epoch 41/50\n",
      " - 6s - loss: 0.0333 - accuracy: 0.9825 - val_loss: 2.0920e-04 - val_accuracy: 1.0000\n",
      "Epoch 42/50\n",
      " - 6s - loss: 0.0032 - accuracy: 1.0000 - val_loss: 6.6730e-05 - val_accuracy: 1.0000\n",
      "Epoch 43/50\n",
      " - 6s - loss: 0.0097 - accuracy: 0.9956 - val_loss: 7.1737e-05 - val_accuracy: 1.0000\n",
      "Epoch 44/50\n",
      " - 6s - loss: 0.0021 - accuracy: 1.0000 - val_loss: 1.9950e-04 - val_accuracy: 1.0000\n",
      "Epoch 45/50\n",
      " - 6s - loss: 0.0309 - accuracy: 0.9912 - val_loss: 1.9142e-04 - val_accuracy: 1.0000\n",
      "Epoch 46/50\n",
      " - 6s - loss: 0.0091 - accuracy: 0.9956 - val_loss: 5.1917e-04 - val_accuracy: 1.0000\n",
      "Epoch 47/50\n",
      " - 6s - loss: 0.0094 - accuracy: 0.9956 - val_loss: 0.0074 - val_accuracy: 1.0000\n",
      "Epoch 48/50\n",
      " - 6s - loss: 0.0149 - accuracy: 0.9956 - val_loss: 0.0388 - val_accuracy: 1.0000\n",
      "Epoch 49/50\n",
      " - 6s - loss: 0.0081 - accuracy: 0.9956 - val_loss: 0.0135 - val_accuracy: 1.0000\n",
      "Epoch 50/50\n",
      " - 6s - loss: 0.0082 - accuracy: 1.0000 - val_loss: 0.0029 - val_accuracy: 1.0000\n"
     ]
    }
   ],
   "source": [
    "history=cnn_model.fit(\n",
    "    np.array(x_train), np.array(y_train), batch_size=512,\n",
    "    epochs=50, verbose=2,\n",
    "    validation_data=(np.array(x_valid),np.array(y_valid)),\n",
    ")"
   ]
  },
  {
   "cell_type": "markdown",
   "metadata": {},
   "source": [
    "Evaluate the test data\n"
   ]
  },
  {
   "cell_type": "code",
   "execution_count": 37,
   "metadata": {},
   "outputs": [
    {
     "name": "stdout",
     "output_type": "stream",
     "text": [
      "test los 0.3484\n",
      "test acc 0.9625\n"
     ]
    }
   ],
   "source": [
    "scor = cnn_model.evaluate( np.array(x_test),  np.array(y_test), verbose=0)\n",
    "\n",
    "print('test los {:.4f}'.format(scor[0]))\n",
    "print('test acc {:.4f}'.format(scor[1]))"
   ]
  },
  {
   "cell_type": "markdown",
   "metadata": {},
   "source": [
    "# Step 7 \n",
    "\n",
    "plot the result"
   ]
  },
  {
   "cell_type": "code",
   "execution_count": 38,
   "metadata": {},
   "outputs": [
    {
     "name": "stdout",
     "output_type": "stream",
     "text": [
      "dict_keys(['val_loss', 'val_accuracy', 'loss', 'accuracy'])\n"
     ]
    },
    {
     "data": {
      "image/png": "[encoded data removed]",
      "text/plain": [
       "<matplotlib.figure.Figure at 0x1f5927d4c18>"
      ]
     },
     "metadata": {},
     "output_type": "display_data"
    },
    {
     "data": {
      "image/png": "[encoded data removed]",
      "text/plain": [
       "<matplotlib.figure.Figure at 0x1f59292deb8>"
      ]
     },
     "metadata": {},
     "output_type": "display_data"
    }
   ],
   "source": [
    "# list all data in history\n",
    "print(history.history.keys())\n",
    "# summarize history for accuracy\n",
    "plt.plot(history.history['accuracy'])\n",
    "plt.plot(history.history['val_accuracy'])\n",
    "plt.title('model accuracy')\n",
    "plt.ylabel('accuracy')\n",
    "plt.xlabel('epoch')\n",
    "plt.legend(['train', 'test'], loc='upper left')\n",
    "plt.show()\n",
    "# summarize history for loss\n",
    "plt.plot(history.history['loss'])\n",
    "plt.plot(history.history['val_loss'])\n",
    "plt.title('model loss')\n",
    "plt.ylabel('loss')\n",
    "plt.xlabel('epoch')\n",
    "plt.legend(['train', 'test'], loc='upper left')\n",
    "plt.show()"
   ]
  },
  {
   "cell_type": "markdown",
   "metadata": {},
   "source": [
    "# step 8\n",
    "\n",
    "Plot Confusion Matrix"
   ]
  },
  {
   "cell_type": "code",
   "execution_count": 39,
   "metadata": {},
   "outputs": [
    {
     "name": "stdout",
     "output_type": "stream",
     "text": [
      "accuracy : \n",
      "0.9625\n",
      "Confusion matrix, without normalization\n",
      "[[8 0 0 0 0 0 0 0 0 0 0 0 0 0 0 0 0 0 0 0]\n",
      " [0 8 0 0 0 0 0 0 0 0 0 0 0 0 0 0 0 0 0 0]\n",
      " [0 0 8 0 0 0 0 0 0 0 0 0 0 0 0 0 0 0 0 0]\n",
      " [0 0 0 8 0 0 0 0 0 0 0 0 0 0 0 0 0 0 0 0]\n",
      " [0 0 0 0 6 0 0 0 0 0 0 0 0 0 0 0 0 2 0 0]\n",
      " [0 0 0 0 0 8 0 0 0 0 0 0 0 0 0 0 0 0 0 0]\n",
      " [0 0 0 0 0 0 8 0 0 0 0 0 0 0 0 0 0 0 0 0]\n",
      " [0 0 0 0 0 0 0 8 0 0 0 0 0 0 0 0 0 0 0 0]\n",
      " [0 0 0 0 0 0 0 0 8 0 0 0 0 0 0 0 0 0 0 0]\n",
      " [0 0 0 0 0 0 0 2 0 6 0 0 0 0 0 0 0 0 0 0]\n",
      " [0 0 0 0 0 0 0 0 0 0 8 0 0 0 0 0 0 0 0 0]\n",
      " [0 0 0 0 0 0 0 0 0 0 0 8 0 0 0 0 0 0 0 0]\n",
      " [0 0 0 0 0 0 0 0 0 0 0 0 8 0 0 0 0 0 0 0]\n",
      " [0 0 0 0 0 0 0 0 0 0 0 0 0 8 0 0 0 0 0 0]\n",
      " [0 0 0 0 0 0 0 0 0 0 0 0 0 0 8 0 0 0 0 0]\n",
      " [0 0 0 0 0 0 0 0 0 0 0 0 0 0 0 8 0 0 0 0]\n",
      " [0 0 0 0 0 0 0 0 0 0 0 0 0 0 0 0 8 0 0 0]\n",
      " [0 0 0 0 0 0 0 0 0 0 0 0 0 0 0 0 0 8 0 0]\n",
      " [0 0 0 0 0 0 0 0 0 0 2 0 0 0 0 0 0 0 6 0]\n",
      " [0 0 0 0 0 0 0 0 0 0 0 0 0 0 0 0 0 0 0 8]]\n",
      "Confusion matrix, without normalization\n"
     ]
    },
    {
     "data": {
      "image/png": "[encoded data removed]",
      "text/plain": [
       "<matplotlib.figure.Figure at 0x1f58ddc3898>"
      ]
     },
     "metadata": {},
     "output_type": "display_data"
    },
    {
     "name": "stdout",
     "output_type": "stream",
     "text": [
      "Confusion matrix, without normalization\n"
     ]
    },
    {
     "data": {
      "image/png": "[encoded data removed]",
      "text/plain": [
       "<matplotlib.figure.Figure at 0x1f58ddf3b70>"
      ]
     },
     "metadata": {},
     "output_type": "display_data"
    },
    {
     "name": "stdout",
     "output_type": "stream",
     "text": [
      "Confusion matrix:\n",
      "[[8 0 0 0 0 0 0 0 0 0 0 0 0 0 0 0 0 0 0 0]\n",
      " [0 8 0 0 0 0 0 0 0 0 0 0 0 0 0 0 0 0 0 0]\n",
      " [0 0 8 0 0 0 0 0 0 0 0 0 0 0 0 0 0 0 0 0]\n",
      " [0 0 0 8 0 0 0 0 0 0 0 0 0 0 0 0 0 0 0 0]\n",
      " [0 0 0 0 6 0 0 0 0 0 0 0 0 0 0 0 0 2 0 0]\n",
      " [0 0 0 0 0 8 0 0 0 0 0 0 0 0 0 0 0 0 0 0]\n",
      " [0 0 0 0 0 0 8 0 0 0 0 0 0 0 0 0 0 0 0 0]\n",
      " [0 0 0 0 0 0 0 8 0 0 0 0 0 0 0 0 0 0 0 0]\n",
      " [0 0 0 0 0 0 0 0 8 0 0 0 0 0 0 0 0 0 0 0]\n",
      " [0 0 0 0 0 0 0 2 0 6 0 0 0 0 0 0 0 0 0 0]\n",
      " [0 0 0 0 0 0 0 0 0 0 8 0 0 0 0 0 0 0 0 0]\n",
      " [0 0 0 0 0 0 0 0 0 0 0 8 0 0 0 0 0 0 0 0]\n",
      " [0 0 0 0 0 0 0 0 0 0 0 0 8 0 0 0 0 0 0 0]\n",
      " [0 0 0 0 0 0 0 0 0 0 0 0 0 8 0 0 0 0 0 0]\n",
      " [0 0 0 0 0 0 0 0 0 0 0 0 0 0 8 0 0 0 0 0]\n",
      " [0 0 0 0 0 0 0 0 0 0 0 0 0 0 0 8 0 0 0 0]\n",
      " [0 0 0 0 0 0 0 0 0 0 0 0 0 0 0 0 8 0 0 0]\n",
      " [0 0 0 0 0 0 0 0 0 0 0 0 0 0 0 0 0 8 0 0]\n",
      " [0 0 0 0 0 0 0 0 0 0 2 0 0 0 0 0 0 0 6 0]\n",
      " [0 0 0 0 0 0 0 0 0 0 0 0 0 0 0 0 0 0 0 8]]\n",
      "             precision    recall  f1-score   support\n",
      "\n",
      "          0       1.00      1.00      1.00         8\n",
      "          1       1.00      1.00      1.00         8\n",
      "          2       1.00      1.00      1.00         8\n",
      "          3       1.00      1.00      1.00         8\n",
      "          4       1.00      0.75      0.86         8\n",
      "          5       1.00      1.00      1.00         8\n",
      "          6       1.00      1.00      1.00         8\n",
      "          7       0.80      1.00      0.89         8\n",
      "          8       1.00      1.00      1.00         8\n",
      "          9       1.00      0.75      0.86         8\n",
      "         10       0.80      1.00      0.89         8\n",
      "         11       1.00      1.00      1.00         8\n",
      "         12       1.00      1.00      1.00         8\n",
      "         13       1.00      1.00      1.00         8\n",
      "         14       1.00      1.00      1.00         8\n",
      "         15       1.00      1.00      1.00         8\n",
      "         16       1.00      1.00      1.00         8\n",
      "         17       0.80      1.00      0.89         8\n",
      "         18       1.00      0.75      0.86         8\n",
      "         19       1.00      1.00      1.00         8\n",
      "\n",
      "avg / total       0.97      0.96      0.96       160\n",
      "\n"
     ]
    }
   ],
   "source": [
    "predicted =np.array( cnn_model.predict(x_test))\n",
    "#print(predicted)\n",
    "#print(y_test)\n",
    "ynew = cnn_model.predict_classes(x_test)\n",
    "\n",
    "\n",
    "Acc=accuracy_score(y_test, ynew)\n",
    "print(\"accuracy : \")\n",
    "print(Acc)\n",
    "#/tn, fp, fn, tp = confusion_matrix(np.array(y_test), ynew).ravel()\n",
    "cnf_matrix=confusion_matrix(np.array(y_test), ynew)\n",
    "\n",
    "y_test1 = np_utils.to_categorical(y_test, 20)\n",
    "\n",
    "\n",
    "\n",
    "def plot_confusion_matrix(cm, classes,\n",
    "                          normalize=False,\n",
    "                          title='Confusion matrix',\n",
    "                          cmap=plt.cm.Blues):\n",
    "    \"\"\"\n",
    "    This function prints and plots the confusion matrix.\n",
    "    Normalization can be applied by setting `normalize=True`.\n",
    "    \"\"\"\n",
    "    if normalize:\n",
    "        cm = cm.astype('float') / cm.sum(axis=1)[:, np.newaxis]\n",
    "        #print(\"Normalized confusion matrix\")\n",
    "    else:\n",
    "        print('Confusion matrix, without normalization')\n",
    "\n",
    "    #print(cm)\n",
    "    plt.imshow(cm, interpolation='nearest', cmap=cmap)\n",
    "    plt.title(title)\n",
    "    plt.colorbar()\n",
    "    tick_marks = np.arange(len(classes))\n",
    "    plt.xticks(tick_marks, classes, rotation=45)\n",
    "    plt.yticks(tick_marks, classes)\n",
    "\n",
    "    fmt = '.2f' if normalize else 'd'\n",
    "    thresh = cm.max() / 2.\n",
    "    for i, j in itertools.product(range(cm.shape[0]), range(cm.shape[1])):\n",
    "        plt.text(j, i, format(cm[i, j], fmt),\n",
    "                 horizontalalignment=\"center\",\n",
    "                 color=\"white\" if cm[i, j] > thresh else \"black\")\n",
    "\n",
    "    plt.tight_layout()\n",
    "    plt.ylabel('True label')\n",
    "    plt.xlabel('Predicted label')\n",
    "    plt.show()\n",
    "\n",
    "\n",
    "print('Confusion matrix, without normalization')\n",
    "print(cnf_matrix)\n",
    "\n",
    "plt.figure()\n",
    "plot_confusion_matrix(cnf_matrix[1:10,1:10], classes=[0,1,2,3,4,5,6,7,8,9],\n",
    "                      title='Confusion matrix, without normalization')\n",
    "\n",
    "plt.figure()\n",
    "plot_confusion_matrix(cnf_matrix[11:20,11:20], classes=[10,11,12,13,14,15,16,17,18,19],\n",
    "                      title='Confusion matrix, without normalization')\n",
    "\n",
    "print(\"Confusion matrix:\\n%s\" % confusion_matrix(np.array(y_test), ynew))\n",
    "print(classification_report(np.array(y_test), ynew))"
   ]
  },
  {
   "cell_type": "code",
   "execution_count": null,
   "metadata": {
    "collapsed": true
   },
   "outputs": [],
   "source": []
  }
 ],
 "metadata": {
  "kernelspec": {
   "display_name": "Python 3",
   "language": "python",
   "name": "python3"
  },
  "language_info": {
   "codemirror_mode": {
    "name": "ipython",
    "version": 3
   },
   "file_extension": ".py",
   "mimetype": "text/x-python",
   "name": "python",
   "nbconvert_exporter": "python",
   "pygments_lexer": "ipython3",
   "version": "3.6.1"
  }
 },
 "nbformat": 4,
 "nbformat_minor": 2
}
